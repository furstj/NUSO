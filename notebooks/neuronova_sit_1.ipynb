{
 "cells": [
  {
   "cell_type": "markdown",
   "metadata": {},
   "source": [
    "# Neuronová síť s jednou vrstvou \"skrytých\" neuronů\n",
    "\n",
    "Výstup každého neuronu je vypočten jako\n",
    "$$\n",
    " o_k = f(\\sum_j w_{kj} i_j + b_k)\n",
    "$$\n",
    "\n",
    "Neuronová síť s jednou vrstvou skrytých neuronů je tedy možné popsat pomocí matice $A^1$ a vektoru $b^1$ popisující přechod mezi vstupní a skrytou vrstvou neuronů a matice $A^2$ a vektoru $b^2$ pro přechod mezi skrytou a výstupní vrstvou.\n",
    "\n",
    "Síť je tedy popsána čtveřicí\n",
    "$$\n",
    "    w = [ A^1, b^1, A^2, b^2 ]\n",
    "$$"
   ]
  },
  {
   "cell_type": "code",
   "execution_count": 1,
   "metadata": {},
   "outputs": [],
   "source": [
    "using Knet\n",
    "using GZip\n",
    "using Compat"
   ]
  },
  {
   "cell_type": "markdown",
   "metadata": {},
   "source": [
    "## Aktivační funkce"
   ]
  },
  {
   "cell_type": "code",
   "execution_count": 2,
   "metadata": {},
   "outputs": [
    {
     "data": {
      "text/plain": [
       "f (generic function with 1 method)"
      ]
     },
     "execution_count": 2,
     "metadata": {},
     "output_type": "execute_result"
    }
   ],
   "source": [
    "f(z) = max(z, 0.0) + 0.01*min(z,0.0)"
   ]
  },
  {
   "cell_type": "code",
   "execution_count": 3,
   "metadata": {},
   "outputs": [
    {
     "data": {
      "text/plain": [
       "predict (generic function with 1 method)"
      ]
     },
     "execution_count": 3,
     "metadata": {},
     "output_type": "execute_result"
    }
   ],
   "source": [
    "# Výpočet výstupních hodnot pro zadanou síť w a vstupní data x\n",
    "\n",
    "function predict(w,x)\n",
    "    for i=1:2:length(w)\n",
    "        x = f.(w[i]*x .+ w[i+1])\n",
    "    end\n",
    "    return x\n",
    "end"
   ]
  },
  {
   "cell_type": "markdown",
   "metadata": {},
   "source": [
    "## Chyba predikce\n",
    "\n",
    "Pro výpočet chyby použijeme $||predict(w,x) - y^*||^2$, kde $y^*$ je správné řešení"
   ]
  },
  {
   "cell_type": "code",
   "execution_count": 4,
   "metadata": {},
   "outputs": [
    {
     "data": {
      "text/plain": [
       "loss (generic function with 1 method)"
      ]
     },
     "execution_count": 4,
     "metadata": {},
     "output_type": "execute_result"
    }
   ],
   "source": [
    "function loss(w,x,ygold)\n",
    "    ypred = predict(w,x)\n",
    "    sum( (ypred-ygold).^2 )\n",
    "end"
   ]
  },
  {
   "cell_type": "markdown",
   "metadata": {},
   "source": [
    "## Metoda největšího spádu\n",
    "\n",
    "Učení provedeme pomocí metody největšího spádu\n",
    "$$\n",
    "  w^{n+1} = w^n - \\alpha \\frac{\\partial loss(w^n, x_n, y^*_n)}{\\partial w^n}\n",
    "$$\n",
    "kde $x_n$ a $y^*_n$ jsou z trénovací množiny. "
   ]
  },
  {
   "cell_type": "code",
   "execution_count": 5,
   "metadata": {},
   "outputs": [
    {
     "data": {
      "text/plain": [
       "(::gradfun) (generic function with 1 method)"
      ]
     },
     "execution_count": 5,
     "metadata": {},
     "output_type": "execute_result"
    }
   ],
   "source": [
    "lossgradient = grad(loss)"
   ]
  },
  {
   "cell_type": "code",
   "execution_count": 6,
   "metadata": {},
   "outputs": [
    {
     "data": {
      "text/plain": [
       "train (generic function with 1 method)"
      ]
     },
     "execution_count": 6,
     "metadata": {},
     "output_type": "execute_result"
    }
   ],
   "source": [
    "function train(w, dtrn; lr=.5, epochs=10)\n",
    "    for epoch=1:epochs\n",
    "        for (x,y) in dtrn\n",
    "            g = lossgradient(w, x, y)\n",
    "            for i in 1:length(w)\n",
    "                # w[i] -= lr * g[i]\n",
    "                axpy!(-lr, g[i], w[i])\n",
    "            end\n",
    "        end\n",
    "    end\n",
    "    return w\n",
    "end"
   ]
  },
  {
   "cell_type": "markdown",
   "metadata": {},
   "source": [
    "## Posouzení kvality sítě"
   ]
  },
  {
   "cell_type": "code",
   "execution_count": 7,
   "metadata": {},
   "outputs": [
    {
     "data": {
      "text/plain": [
       "decode (generic function with 1 method)"
      ]
     },
     "execution_count": 7,
     "metadata": {},
     "output_type": "execute_result"
    }
   ],
   "source": [
    "# Převod výstupu na číslo\n",
    "decode(y) = findmax(y)[2] - 1"
   ]
  },
  {
   "cell_type": "code",
   "execution_count": 8,
   "metadata": {},
   "outputs": [
    {
     "data": {
      "text/plain": [
       "accuracy (generic function with 1 method)"
      ]
     },
     "execution_count": 8,
     "metadata": {},
     "output_type": "execute_result"
    }
   ],
   "source": [
    "function accuracy(w, dtst)\n",
    "    ncorrect = 0\n",
    "    for (x, ygold) in dtst\n",
    "        correct = decode(ygold)\n",
    "        guess = decode( predict(w, x) )\n",
    "        \n",
    "        if guess==correct\n",
    "            ncorrect += 1\n",
    "        end\n",
    "    end\n",
    "    return ncorrect/length(dtst)\n",
    "end"
   ]
  },
  {
   "cell_type": "markdown",
   "metadata": {},
   "source": [
    "## Inicializace sítě pomocí náhodných vah\n",
    "\n",
    "Sestavujeme množinu $2(m+1)$ parametrů popisující sít ($m$ je počet skrytých vrstev). Vstupní vrstva má fixní velikost $28*28=784$ neuronů, velikosti skrytých vrstev se zadávají jako parametr/parametry a výstupní vrstva má 10 neuronů. "
   ]
  },
  {
   "cell_type": "code",
   "execution_count": 9,
   "metadata": {},
   "outputs": [
    {
     "data": {
      "text/plain": [
       "weights (generic function with 1 method)"
      ]
     },
     "execution_count": 9,
     "metadata": {},
     "output_type": "execute_result"
    }
   ],
   "source": [
    "function weights(h...; atype=Array{Float32}, winit=0.1)\n",
    "    w = Any[]\n",
    "    x = 28*28\n",
    "    for y in [h..., 10]\n",
    "        push!(w, convert(atype, winit*randn(y,x)))\n",
    "        push!(w, convert(atype, zeros(y, 1)))\n",
    "        x = y\n",
    "    end\n",
    "    return w\n",
    "end"
   ]
  },
  {
   "cell_type": "markdown",
   "metadata": {},
   "source": [
    "## Načtení sérií dat pro učení a testování\n",
    "\n",
    "- *xtrn* obsahuje vstupní data pro učení (60000 skenovaných číslic v rastru 28x28)\n",
    "- *ytrn* obsahuje správné výsledky pro učení\n",
    "- *xtst* obsahuje vstupní data pro testování (10000 skenovaných číslic)\n",
    "- *ytst* obsahuje správné výsledky pro testovací data\n",
    "\n",
    "Sady dat načteme a přeorganizujeme je do pole dvojic (x,y)"
   ]
  },
  {
   "cell_type": "code",
   "execution_count": 10,
   "metadata": {},
   "outputs": [
    {
     "data": {
      "text/plain": [
       "gzload (generic function with 1 method)"
      ]
     },
     "execution_count": 10,
     "metadata": {},
     "output_type": "execute_result"
    }
   ],
   "source": [
    "function loaddata()\n",
    "    global xtrn,ytrn,xtst,ytst\n",
    "    info(\"Loading MNIST...\")\n",
    "    xtrn = gzload(\"train-images-idx3-ubyte.gz\")[17:end]\n",
    "    xtst = gzload(\"t10k-images-idx3-ubyte.gz\")[17:end]\n",
    "    ytrn = gzload(\"train-labels-idx1-ubyte.gz\")[9:end]\n",
    "    ytst = gzload(\"t10k-labels-idx1-ubyte.gz\")[9:end]\n",
    "end\n",
    "\n",
    "function gzload(file; path=Knet.dir(\"data\",file), url=\"http://yann.lecun.com/exdb/mnist/$file\")\n",
    "    isfile(path) || download(url, path)\n",
    "    f = gzopen(path)\n",
    "    a = @compat read(f)\n",
    "    close(f)\n",
    "    return(a)\n",
    "end"
   ]
  },
  {
   "cell_type": "code",
   "execution_count": 11,
   "metadata": {},
   "outputs": [
    {
     "data": {
      "text/plain": [
       "rearange (generic function with 1 method)"
      ]
     },
     "execution_count": 11,
     "metadata": {},
     "output_type": "execute_result"
    }
   ],
   "source": [
    "function rearange(x, y)\n",
    "    xa = convert(Array{Float32}, reshape(x, 784, div(length(x),784) ) ) ./ 255\n",
    "    ya = zeros(10,size(xa,2))\n",
    "    for i=1:size(xa,2)\n",
    "        ya[y[i]+1,i] = 1.0\n",
    "    end\n",
    "    \n",
    "    data = Any[]\n",
    "    for i =1:size(xa,2)\n",
    "        push!(data, (xa[:,i], ya[:,i]) )\n",
    "    end\n",
    "    return data\n",
    "end"
   ]
  },
  {
   "cell_type": "code",
   "execution_count": 12,
   "metadata": {},
   "outputs": [
    {
     "name": "stderr",
     "output_type": "stream",
     "text": [
      "\u001b[1m\u001b[36mINFO: \u001b[39m\u001b[22m\u001b[36mLoading MNIST...\n",
      "\u001b[39m"
     ]
    }
   ],
   "source": [
    "loaddata();"
   ]
  },
  {
   "cell_type": "code",
   "execution_count": 13,
   "metadata": {},
   "outputs": [],
   "source": [
    "dtrn = rearange(xtrn, ytrn);\n",
    "dtst = rearange(xtst, ytst);"
   ]
  },
  {
   "cell_type": "code",
   "execution_count": 14,
   "metadata": {},
   "outputs": [],
   "source": [
    "using PyPlot"
   ]
  },
  {
   "cell_type": "code",
   "execution_count": 15,
   "metadata": {},
   "outputs": [
    {
     "name": "stdout",
     "output_type": "stream",
     "text": [
      "[0.0, 0.0, 0.0, 0.0, 0.0, 1.0, 0.0, 0.0, 0.0, 0.0]\n",
      "5"
     ]
    },
    {
     "data": {
      "image/png": "[encoded data removed]",
      "text/plain": [
       "PyPlot.Figure(PyObject <matplotlib.figure.Figure object at 0x7fb5129fde10>)"
      ]
     },
     "metadata": {},
     "output_type": "display_data"
    },
    {
     "name": "stdout",
     "output_type": "stream",
     "text": [
      "\n"
     ]
    }
   ],
   "source": [
    "imshow(reshape(dtrn[1][1],28,28)')\n",
    "println(dtrn[1][2])\n",
    "println(decode(dtrn[1][2]))"
   ]
  },
  {
   "cell_type": "markdown",
   "metadata": {},
   "source": [
    "## Inicializace sítě s jednou skrytou vrstvou o 64 neuronech"
   ]
  },
  {
   "cell_type": "code",
   "execution_count": 16,
   "metadata": {},
   "outputs": [],
   "source": [
    "w = weights(64);"
   ]
  },
  {
   "cell_type": "code",
   "execution_count": 17,
   "metadata": {},
   "outputs": [
    {
     "data": {
      "text/plain": [
       "0.0802"
      ]
     },
     "execution_count": 17,
     "metadata": {},
     "output_type": "execute_result"
    }
   ],
   "source": [
    "accuracy(w,dtst)"
   ]
  },
  {
   "cell_type": "markdown",
   "metadata": {},
   "source": [
    "## Učení sítě "
   ]
  },
  {
   "cell_type": "code",
   "execution_count": 18,
   "metadata": {},
   "outputs": [
    {
     "name": "stdout",
     "output_type": "stream",
     "text": [
      "0.9556\n",
      "0.9602\n",
      "0.9638\n",
      "0.9676\n"
     ]
    }
   ],
   "source": [
    "for epoch = 1:4\n",
    "    train(w, dtrn; lr=0.01, epochs=1);\n",
    "    println(accuracy(w, dtst))\n",
    "end"
   ]
  },
  {
   "cell_type": "code",
   "execution_count": 19,
   "metadata": {},
   "outputs": [
    {
     "data": {
      "text/plain": [
       "0.9676"
      ]
     },
     "execution_count": 19,
     "metadata": {},
     "output_type": "execute_result"
    }
   ],
   "source": [
    "accuracy(w,dtst)"
   ]
  },
  {
   "cell_type": "markdown",
   "metadata": {},
   "source": [
    "## Výsledky"
   ]
  },
  {
   "cell_type": "code",
   "execution_count": 20,
   "metadata": {},
   "outputs": [
    {
     "data": {
      "text/plain": [
       "10×2 Array{Float64,2}:\n",
       " -0.00660753  0.0\n",
       " -0.0029043   0.0\n",
       " -0.00683846  0.0\n",
       " -0.00590785  0.0\n",
       " -0.0159409   0.0\n",
       " -0.00354447  0.0\n",
       " -0.0102652   0.0\n",
       "  0.781139    1.0\n",
       " -0.00825619  0.0\n",
       " -0.0124399   0.0"
      ]
     },
     "execution_count": 20,
     "metadata": {},
     "output_type": "execute_result"
    }
   ],
   "source": [
    "[predict(w, dtst[1][1])  dtst[1][2]]"
   ]
  },
  {
   "cell_type": "code",
   "execution_count": 21,
   "metadata": {},
   "outputs": [
    {
     "data": {
      "image/png": "[encoded data removed]",
      "text/plain": [
       "PyPlot.Figure(PyObject <matplotlib.figure.Figure object at 0x7fb4fd6024a8>)"
      ]
     },
     "metadata": {},
     "output_type": "display_data"
    },
    {
     "data": {
      "text/plain": [
       "7"
      ]
     },
     "execution_count": 21,
     "metadata": {},
     "output_type": "execute_result"
    }
   ],
   "source": [
    "imshow(reshape(dtst[1][1], 28,28)')\n",
    "decode( predict(w, dtst[1][1]) )"
   ]
  },
  {
   "cell_type": "code",
   "execution_count": 22,
   "metadata": {},
   "outputs": [
    {
     "data": {
      "image/png": "[encoded data removed]",
      "text/plain": [
       "PyPlot.Figure(PyObject <matplotlib.figure.Figure object at 0x7fb4fba02ef0>)"
      ]
     },
     "metadata": {},
     "output_type": "display_data"
    }
   ],
   "source": [
    "for i=1:9\n",
    "    subplot(190+i); imshow(reshape(dtst[i][1], 28,28)')\n",
    "end"
   ]
  },
  {
   "cell_type": "code",
   "execution_count": 23,
   "metadata": {},
   "outputs": [
    {
     "name": "stdout",
     "output_type": "stream",
     "text": [
      "Odhad   : [7, 2, 1, 0, 4, 1, 4, 9, 5]\n",
      "Spravne : [7, 2, 1, 0, 4, 1, 4, 9, 5]\n"
     ]
    }
   ],
   "source": [
    "println(\"Odhad   : \", [decode(predict(w,dtst[i][1])) for i=1:9])\n",
    "println(\"Spravne : \", [decode(dtst[i][2]) for i=1:9])"
   ]
  },
  {
   "cell_type": "code",
   "execution_count": null,
   "metadata": {},
   "outputs": [],
   "source": []
  }
 ],
 "metadata": {
  "kernelspec": {
   "display_name": "Julia 0.6.1",
   "language": "julia",
   "name": "julia-0.6"
  },
  "language_info": {
   "file_extension": ".jl",
   "mimetype": "application/julia",
   "name": "julia",
   "version": "0.6.1"
  }
 },
 "nbformat": 4,
 "nbformat_minor": 2
}
