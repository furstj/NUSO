{
 "cells": [
  {
   "cell_type": "markdown",
   "metadata": {},
   "source": [
    "# Spektrální bisekce grafu"
   ]
  },
  {
   "cell_type": "markdown",
   "metadata": {},
   "source": [
    "## Úvodní příklad\n",
    "\n",
    "Uvažujeme řídkou matici o rozměrech $6 \\times 6$ se symetrickou strukturou nenulových prvků, viz níže. Úkolem je rozdělit řádky (nebo sloupce) této matice tak, aby na každém z procesorů byl stejný počet řádků (*load balancing*) a při výpočtu součinu $y = Ax$ bylo provedeno co nejméně komunikací (*minimal cut*)."
   ]
  },
  {
   "cell_type": "code",
   "execution_count": 1,
   "metadata": {
    "collapsed": false
   },
   "outputs": [
    {
     "data": {
      "text/plain": [
       "6x6 Array{Float64,2}:\n",
       " 4.0  1.0  1.0  0.0  0.0  0.0\n",
       " 1.0  4.0  1.0  1.0  0.0  0.0\n",
       " 1.0  1.0  4.0  0.0  0.0  1.0\n",
       " 0.0  1.0  0.0  4.0  1.0  1.0\n",
       " 0.0  0.0  0.0  1.0  4.0  1.0\n",
       " 0.0  0.0  1.0  1.0  1.0  4.0"
      ]
     },
     "execution_count": 1,
     "metadata": {},
     "output_type": "execute_result"
    }
   ],
   "source": [
    "A = 2 * speye(6,6)\n",
    "\n",
    "A[1, [2,3]] = [1,1]\n",
    "A[2, [3,4]] = [1,1]\n",
    "A[3, 6]     = 1\n",
    "A[4, [5,6]] = [1,1]\n",
    "A[5, 6]     = 1\n",
    "\n",
    "A = A + transpose(A)\n",
    "full(A)"
   ]
  },
  {
   "cell_type": "code",
   "execution_count": 2,
   "metadata": {
    "collapsed": false
   },
   "outputs": [],
   "source": [
    "using PyPlot;"
   ]
  },
  {
   "cell_type": "code",
   "execution_count": 3,
   "metadata": {
    "collapsed": false
   },
   "outputs": [
    {
     "data": {
      "image/png": "[encoded data removed]",
      "text/plain": [
       "PyPlot.Figure(PyObject <matplotlib.figure.Figure object at 0x7fd2d3267e10>)"
      ]
     },
     "metadata": {},
     "output_type": "display_data"
    }
   ],
   "source": [
    "spy(full(A));"
   ]
  },
  {
   "cell_type": "markdown",
   "metadata": {},
   "source": [
    "### Graf popisující strukturu matice\n",
    "\n",
    "Strukturu nenulových prvků matice $A$ popíšeme pomocí grafu\n",
    "$$\n",
    "    \\mathcal G = \\{\\mathcal V, \\mathcal E\\},\n",
    "$$\n",
    "kde \n",
    " - $\\mathcal V$ je množina vrcholů odpovídající řádkům matice, tj. $|\\mathcal V|=n=6$ a \n",
    " - $\\mathcal E = \\{ \\{i,j\\} : a_{ij} \\ne 0 \\land i\\ne j \\} $ je množina hran odpovídající nenulovým prvkům matice $A$.\n",
    " \n",
    "Pozn. uvažujeme matice se symetrickou strukturou, tj. $\\{i,j\\} = \\{j,i\\}$.\n",
    "\n",
    "V grafu zavedeme *libovolnou* orientaci (např. tak, že $i<j$). Pro tento **orientovaný** graf definujeme incidenční matici jako\n",
    "$$\n",
    "    E_{kj} = \\left\\{\n",
    "    \\begin{array}{ll}\n",
    "        -1 & \\mbox{pokud hrana $k$ vychází z vrcholu $i$,} \\\\\n",
    "        1 & \\mbox{pokud hrana $k$ vchází do vrcholu $i$,} \\\\\n",
    "        0 & \\mbox{jinak.} \n",
    "    \\end{array}\n",
    "    \\right.\n",
    "$$"
   ]
  },
  {
   "cell_type": "code",
   "execution_count": 4,
   "metadata": {
    "collapsed": false
   },
   "outputs": [
    {
     "data": {
      "text/plain": [
       "incidence_matrix (generic function with 1 method)"
      ]
     },
     "execution_count": 4,
     "metadata": {},
     "output_type": "execute_result"
    }
   ],
   "source": [
    "function incidence_matrix(A)\n",
    "    n = size(A,1)\n",
    "    m = div((nnz(A) - n), 2)\n",
    "    E = spzeros(m,n)\n",
    "    rows = rowvals(A)\n",
    "    k = 1\n",
    "    for i = 1:n\n",
    "        for  l in nzrange(A,i)\n",
    "            j = rows[l]\n",
    "            if i < j\n",
    "                E[k,i] = -1.\n",
    "                E[k,j] =  1.\n",
    "                k+=1\n",
    "            end\n",
    "        end\n",
    "    end\n",
    "    return E\n",
    "end"
   ]
  },
  {
   "cell_type": "code",
   "execution_count": 5,
   "metadata": {
    "collapsed": false
   },
   "outputs": [
    {
     "data": {
      "text/plain": [
       "8x6 Array{Float64,2}:\n",
       " -1.0   1.0   0.0   0.0   0.0  0.0\n",
       " -1.0   0.0   1.0   0.0   0.0  0.0\n",
       "  0.0  -1.0   1.0   0.0   0.0  0.0\n",
       "  0.0  -1.0   0.0   1.0   0.0  0.0\n",
       "  0.0   0.0  -1.0   0.0   0.0  1.0\n",
       "  0.0   0.0   0.0  -1.0   1.0  0.0\n",
       "  0.0   0.0   0.0  -1.0   0.0  1.0\n",
       "  0.0   0.0   0.0   0.0  -1.0  1.0"
      ]
     },
     "execution_count": 5,
     "metadata": {},
     "output_type": "execute_result"
    }
   ],
   "source": [
    "E = incidence_matrix(A)\n",
    "full(E)"
   ]
  },
  {
   "cell_type": "markdown",
   "metadata": {},
   "source": [
    "Rozdělení vrcholů grafu na procesory $\\mathcal V = \\mathcal V_1 \\cup \\mathcal V_2$ ($\\mathcal V_1 \\cap \\mathcal V_2 = \\emptyset$) pak můžeme popsat pomocí vektoru $c \\in \\{-1,1\\}^n$ takto:\n",
    "$$\n",
    "  c_i = \\left\\{\n",
    "  \\begin{array}{ll}\n",
    "    -1 & \\mbox{pokud } i \\in \\mathcal V_1, \\\\\n",
    "    1 & \\mbox{pokud } i \\in \\mathcal V_2.\n",
    "  \\end{array}\n",
    "  \\right.\n",
    "$$"
   ]
  },
  {
   "cell_type": "code",
   "execution_count": 6,
   "metadata": {
    "collapsed": false
   },
   "outputs": [
    {
     "data": {
      "text/plain": [
       "1x6 Array{Int64,2}:\n",
       " 1  -1  1  -1  1  -1"
      ]
     },
     "execution_count": 6,
     "metadata": {},
     "output_type": "execute_result"
    }
   ],
   "source": [
    "c = [1, -1, 1, -1, 1, -1]\n",
    "c'"
   ]
  },
  {
   "cell_type": "markdown",
   "metadata": {},
   "source": [
    "Součin $E c$ pak je\n",
    "$$\n",
    "    (Ec)_k = \\left\\{\n",
    "    \\begin{array}{ll}\n",
    "      0 & \\mbox{pokud hrana $k$ začíná i končí ve stejné části grafu,} \\\\\n",
    "      \\pm 2 & \\mbox{pokud hrana začíná ve $\\mathcal V_1$ a končí $\\mathcal V_2$ nebo naopak.} \n",
    "    \\end{array}\n",
    "    \\right.\n",
    "$$"
   ]
  },
  {
   "cell_type": "code",
   "execution_count": 7,
   "metadata": {
    "collapsed": false
   },
   "outputs": [
    {
     "data": {
      "text/plain": [
       "1x8 Array{Float64,2}:\n",
       " -2.0  0.0  2.0  0.0  -2.0  2.0  0.0  -2.0"
      ]
     },
     "execution_count": 7,
     "metadata": {},
     "output_type": "execute_result"
    }
   ],
   "source": [
    "(E*c)'"
   ]
  },
  {
   "cell_type": "markdown",
   "metadata": {},
   "source": [
    "Mohutnost řezu (počet hran spojující $\\mathcal V_1$ s $\\mathcal V_2$, tj. počet nutných komunikací při výpočtu součinu $y=Ax$) je potom $||Ec||^2/4$."
   ]
  },
  {
   "cell_type": "code",
   "execution_count": 8,
   "metadata": {
    "collapsed": false
   },
   "outputs": [
    {
     "data": {
      "text/plain": [
       "5.0"
      ]
     },
     "execution_count": 8,
     "metadata": {},
     "output_type": "execute_result"
    }
   ],
   "source": [
    "dot(E*c,E*c)/4"
   ]
  },
  {
   "cell_type": "markdown",
   "metadata": {},
   "source": [
    "### Optimální řez grafu\n",
    "\n",
    "Úlohu nalézt optimální řez grafu (se sudým počtem vrcholů) tedy můžeme formulovat takto: nalezněte vektor $c \\in \\{-1,1\\}^n$ takový, že \n",
    "- $\\sum_{i=1}^n c_i = (c, \\vec{1}) = 0$ (load balancing)\n",
    "- $c$ minimalizuje $||Ec||_2$\n",
    "navíc z definice $c$ je vidět, že $||c||^2 = n$.\n",
    "\n",
    "Tato úloha je však velmi obtížně řešitelná, proto přejdeme k přibližnému řešení v oboru reálných čísel.\n",
    "\n",
    "## Spektrální bisekce grafu v oboru reálných čísel\n",
    "Budeme uvažovat vektor $c \\in \\mathbb R^n$. Potom úlohu přeformulujeme takto: nalezněte reálný vektor $c\\in \\mathbb R^n$ takový, že\n",
    "- $||c||=1$\n",
    "- $(c,\\vec{1}) = 0$\n",
    "- $c$ minimalizuje $||Ec||^2 = (Ec,Ec)$.\n",
    "\n",
    "Minimalizovaný výraz přepíšeme jako $||Ec||^2 = (Ec,Ec) = (E^TEc,c) = (Lc,c)$, kde $L=E^TE$\n",
    "\n",
    "Matice $L$ se nazývá **Laplaceova matice** grafu a její prvky jsou\n",
    "$$\n",
    "    L_{ij} = \\left\\{\n",
    "        \\begin{array}{ll}\n",
    "            |v_i| & \\mbox{pro } i=j, \\\\\n",
    "            -1 & \\mbox{pro } a_{ij}\\ne 0 \\land i\\ne j, \\\\\n",
    "            0 & \\mbox{jinak}\n",
    "        \\end{array}\n",
    "    \\right.\n",
    "$$"
   ]
  },
  {
   "cell_type": "code",
   "execution_count": 9,
   "metadata": {
    "collapsed": false
   },
   "outputs": [
    {
     "data": {
      "text/plain": [
       "6x6 Array{Float64,2}:\n",
       "  2.0  -1.0  -1.0   0.0   0.0   0.0\n",
       " -1.0   3.0  -1.0  -1.0   0.0   0.0\n",
       " -1.0  -1.0   3.0   0.0   0.0  -1.0\n",
       "  0.0  -1.0   0.0   3.0  -1.0  -1.0\n",
       "  0.0   0.0   0.0  -1.0   2.0  -1.0\n",
       "  0.0   0.0  -1.0  -1.0  -1.0   3.0"
      ]
     },
     "execution_count": 9,
     "metadata": {},
     "output_type": "execute_result"
    }
   ],
   "source": [
    "L = transpose(E) * E\n",
    "full(L)"
   ]
  },
  {
   "cell_type": "markdown",
   "metadata": {},
   "source": [
    "Matice $L$ je symetrická pozitivně semidefinitní matice. Lze jí tedy diagonalizovat nad $\\mathbb R$ a z jejích vlastních vektorů lze sestavit ortonormální bázi. Seřaďme vlastní čísla dle velikosti $0=\\lambda_1 \\le \\lambda_2 \\le ... \\le \\lambda_n$. Nechť $q_k$ je $k$-tý bázový vektor příslušející vlastnímu číslu $\\lambda_k$ a $\\gamma_k$ je $k$-tá souřadnice $c$ v této bázi (tj. $c=\\sum \\gamma_k q_k$), potom\n",
    "$$\n",
    "  1 = ||c||^2 = (c,c) = \\sum_{k=1}^{n}{\\gamma_k}^2,\n",
    "$$\n",
    "$$\n",
    "    Lc = \\sum \\gamma_k L q_k = \\sum \\lambda_k \\gamma_k q_k,\n",
    "$$\n",
    "a\n",
    "$$\n",
    "    (Lc,c) = \\sum \\lambda_k \\gamma_k^2. \n",
    "$$\n",
    "\n",
    "Dále platí $L \\vec{1} = 0$ a tedy $\\vec{1}$ je vlastní vektor odpovídající vlastnímu číslu $\\lambda_1=0$. Minimalizaci $(Lc,c)$ tedy budeme provádět na ortogonálním doplňku $\\vec{1}$, tj. na $span\\{q_2,q_3,...,q_n\\}$.\n",
    "\n",
    "Je-li $\\lambda_2$ jednonásobné, je $(Lc,c)$ řešením vektor $q_2$. "
   ]
  },
  {
   "cell_type": "code",
   "execution_count": 10,
   "metadata": {
    "collapsed": false
   },
   "outputs": [
    {
     "data": {
      "text/plain": [
       "1x6 Array{Float64,2}:\n",
       " 4.44089e-15  1.0  3.0  3.0  4.0  5.0"
      ]
     },
     "execution_count": 10,
     "metadata": {},
     "output_type": "execute_result"
    }
   ],
   "source": [
    "sol=eig(full(L))\n",
    "lambda = sol[1]'"
   ]
  },
  {
   "cell_type": "code",
   "execution_count": 11,
   "metadata": {
    "collapsed": false
   },
   "outputs": [
    {
     "data": {
      "text/plain": [
       "1x6 Array{Float64,2}:\n",
       " -0.57735  -0.288675  -0.288675  0.288675  0.57735  0.288675"
      ]
     },
     "execution_count": 11,
     "metadata": {},
     "output_type": "execute_result"
    }
   ],
   "source": [
    "q_2 = sol[2][:,2]'"
   ]
  },
  {
   "cell_type": "markdown",
   "metadata": {},
   "source": [
    "Vrcholy rozdělíme podle znamének prvků $q_2$"
   ]
  },
  {
   "cell_type": "code",
   "execution_count": 12,
   "metadata": {
    "collapsed": false
   },
   "outputs": [
    {
     "data": {
      "text/plain": [
       "2.0"
      ]
     },
     "execution_count": 12,
     "metadata": {},
     "output_type": "execute_result"
    }
   ],
   "source": [
    "c=[-1,-1,-1,1,1,1]\n",
    "dot(E*c,E*c)/4"
   ]
  },
  {
   "cell_type": "markdown",
   "metadata": {},
   "source": [
    "## Příklad 2 - matice s lichým počtem řádků "
   ]
  },
  {
   "cell_type": "code",
   "execution_count": 13,
   "metadata": {
    "collapsed": false
   },
   "outputs": [
    {
     "data": {
      "text/plain": [
       "7x7 Array{Float64,2}:\n",
       " 4.0  1.0  1.0  0.0  0.0  0.0  0.0\n",
       " 1.0  4.0  1.0  1.0  0.0  0.0  0.0\n",
       " 1.0  1.0  4.0  0.0  0.0  1.0  0.0\n",
       " 0.0  1.0  0.0  4.0  1.0  1.0  0.0\n",
       " 0.0  0.0  0.0  1.0  4.0  1.0  1.0\n",
       " 0.0  0.0  1.0  1.0  1.0  4.0  1.0\n",
       " 0.0  0.0  0.0  0.0  1.0  1.0  4.0"
      ]
     },
     "execution_count": 13,
     "metadata": {},
     "output_type": "execute_result"
    }
   ],
   "source": [
    "B = 2 * speye(7,7)\n",
    "\n",
    "B[1, [2,3]] = [1,1]\n",
    "B[2, [3,4]] = [1,1]\n",
    "B[3, 6]     = 1\n",
    "B[4, [5,6]] = [1,1]\n",
    "B[5, [6,7]]     = 1\n",
    "B[6,7] = 1\n",
    "B = B + transpose(B)\n",
    "full(B)"
   ]
  },
  {
   "cell_type": "code",
   "execution_count": 14,
   "metadata": {
    "collapsed": false
   },
   "outputs": [
    {
     "data": {
      "text/plain": [
       "1x7 Array{Float64,2}:\n",
       " 6.21725e-15  0.814349  2.32801  3.31391  3.59809  4.45753  5.48812"
      ]
     },
     "execution_count": 14,
     "metadata": {},
     "output_type": "execute_result"
    }
   ],
   "source": [
    "EB = incidence_matrix(B);\n",
    "LB = transpose(EB)*EB\n",
    "solb = eig(full(LB))\n",
    "solb[1]'"
   ]
  },
  {
   "cell_type": "code",
   "execution_count": 15,
   "metadata": {
    "collapsed": false
   },
   "outputs": [
    {
     "data": {
      "text/plain": [
       "7-element Array{Float64,1}:\n",
       " -0.560099\n",
       " -0.347898\n",
       " -0.316183\n",
       "  0.115898\n",
       "  0.38428 \n",
       "  0.216931\n",
       "  0.507072"
      ]
     },
     "execution_count": 15,
     "metadata": {},
     "output_type": "execute_result"
    }
   ],
   "source": [
    "solb[2][:,2]"
   ]
  },
  {
   "cell_type": "markdown",
   "metadata": {},
   "source": [
    "## Příklad 3 - dělení na 3 procesory\n",
    "\n",
    "Matici $A$ ($n=6$) nejprve rozdělíme v poměru 1:2 na dva procesory, pak vetší díl rozdělíme opět na 2 procesory.\n",
    "\n",
    "Původní matici modifikujeme tak, že přidáme řádky a nenulové prvky tak, aby nově přidané řádky tvořily s posledním vrcholem původního grafu kliku."
   ]
  },
  {
   "cell_type": "code",
   "execution_count": 16,
   "metadata": {
    "collapsed": false
   },
   "outputs": [
    {
     "data": {
      "text/plain": [
       "8x8 Array{Float64,2}:\n",
       " 2.0  1.0  1.0  0.0  0.0  0.0  0.0  0.0\n",
       " 1.0  2.0  1.0  1.0  0.0  0.0  0.0  0.0\n",
       " 1.0  1.0  2.0  0.0  0.0  1.0  0.0  0.0\n",
       " 0.0  1.0  0.0  2.0  1.0  1.0  0.0  0.0\n",
       " 0.0  0.0  0.0  1.0  2.0  1.0  0.0  0.0\n",
       " 0.0  0.0  1.0  1.0  1.0  2.0  1.0  1.0\n",
       " 0.0  0.0  0.0  0.0  0.0  1.0  2.0  1.0\n",
       " 0.0  0.0  0.0  0.0  0.0  1.0  1.0  2.0"
      ]
     },
     "execution_count": 16,
     "metadata": {},
     "output_type": "execute_result"
    }
   ],
   "source": [
    "A1 = speye(8,8)\n",
    "A = 2 * speye(6,6)\n",
    "\n",
    "A1[1, [2,3]] = [1,1]\n",
    "A1[2, [3,4]] = [1,1]\n",
    "A1[3, 6]     = 1\n",
    "A1[4, [5,6]] = [1,1]\n",
    "A1[5, 6]     = 1\n",
    "\n",
    "# Dodatečné prvky\n",
    "A1[7,8] = 1\n",
    "\n",
    "# Napojení na zbytek matice\n",
    "A1[6,[7,8]] = 1\n",
    "\n",
    "A1 = A1 + transpose(A1)\n",
    "full(A1)"
   ]
  },
  {
   "cell_type": "code",
   "execution_count": 17,
   "metadata": {
    "collapsed": false
   },
   "outputs": [
    {
     "data": {
      "image/png": "[encoded data removed]",
      "text/plain": [
       "PyPlot.Figure(PyObject <matplotlib.figure.Figure object at 0x7fd2d3277390>)"
      ]
     },
     "metadata": {},
     "output_type": "display_data"
    },
    {
     "data": {
      "text/plain": [
       "PyObject <matplotlib.image.AxesImage object at 0x7fd2d3345a90>"
      ]
     },
     "execution_count": 17,
     "metadata": {},
     "output_type": "execute_result"
    }
   ],
   "source": [
    "spy(full(A1))"
   ]
  },
  {
   "cell_type": "code",
   "execution_count": 18,
   "metadata": {
    "collapsed": false
   },
   "outputs": [
    {
     "data": {
      "text/plain": [
       "1x8 Array{Float64,2}:\n",
       " -3.60822e-16  0.666432  1.27766  3.0  3.0  3.45155  4.35771  6.24665"
      ]
     },
     "execution_count": 18,
     "metadata": {},
     "output_type": "execute_result"
    }
   ],
   "source": [
    "E1 = incidence_matrix(A1);\n",
    "L1 = transpose(E1)*E1\n",
    "sol1 = eig(full(L1))\n",
    "sol1[1]'"
   ]
  },
  {
   "cell_type": "code",
   "execution_count": 19,
   "metadata": {
    "collapsed": false
   },
   "outputs": [
    {
     "data": {
      "text/plain": [
       "8-element Array{Float64,1}:\n",
       " -0.504175 \n",
       " -0.368501 \n",
       " -0.303851 \n",
       " -0.0518964\n",
       "  0.0837776\n",
       "  0.16362  \n",
       "  0.490513 \n",
       "  0.490513 "
      ]
     },
     "execution_count": 19,
     "metadata": {},
     "output_type": "execute_result"
    }
   ],
   "source": [
    "sol1[2][:,2]"
   ]
  },
  {
   "cell_type": "markdown",
   "metadata": {},
   "source": [
    "## Nalezení vlastního vektoru $v_2$\n",
    "\n",
    "Pro matici $L$ platí $\\rho_L \\le 2 \\max_i L_{ii}$ (viz Geršgorinovo lemma)"
   ]
  },
  {
   "cell_type": "code",
   "execution_count": 20,
   "metadata": {
    "collapsed": false
   },
   "outputs": [
    {
     "data": {
      "text/plain": [
       "6.24664560291511"
      ]
     },
     "execution_count": 20,
     "metadata": {},
     "output_type": "execute_result"
    }
   ],
   "source": [
    "maximum(eig(full(L1))[1])"
   ]
  },
  {
   "cell_type": "code",
   "execution_count": 21,
   "metadata": {
    "collapsed": false
   },
   "outputs": [
    {
     "data": {
      "text/plain": [
       "10.0"
      ]
     },
     "execution_count": 21,
     "metadata": {},
     "output_type": "execute_result"
    }
   ],
   "source": [
    "ρ =  2*maximum(diag(L1))"
   ]
  },
  {
   "cell_type": "code",
   "execution_count": 22,
   "metadata": {
    "collapsed": false
   },
   "outputs": [
    {
     "data": {
      "text/plain": [
       "1x8 Array{Float64,2}:\n",
       " 3.75335  5.64229  6.54845  7.0  7.0  8.72234  9.33357  10.0"
      ]
     },
     "execution_count": 22,
     "metadata": {},
     "output_type": "execute_result"
    }
   ],
   "source": [
    "n = size(L1)[1]\n",
    "B = ρ*speye(n) - L1\n",
    "eig(full(B))[1]'"
   ]
  },
  {
   "cell_type": "code",
   "execution_count": 23,
   "metadata": {
    "collapsed": false
   },
   "outputs": [
    {
     "data": {
      "text/plain": [
       "8-element Array{Float64,1}:\n",
       " 1.42109e-14\n",
       " 3.75335    \n",
       " 5.64229    \n",
       " 6.54845    \n",
       " 7.0        \n",
       " 7.0        \n",
       " 8.72234    \n",
       " 9.33357    "
      ]
     },
     "execution_count": 23,
     "metadata": {},
     "output_type": "execute_result"
    }
   ],
   "source": [
    "eig( B - ones(n,n)/n*ρ)[1]"
   ]
  },
  {
   "cell_type": "code",
   "execution_count": 24,
   "metadata": {
    "collapsed": false
   },
   "outputs": [
    {
     "data": {
      "text/plain": [
       "8-element Array{Float64,1}:\n",
       " 0.371421 \n",
       " 0.952537 \n",
       " 0.0954688\n",
       " 0.614523 \n",
       " 0.729738 \n",
       " 0.852831 \n",
       " 0.713263 \n",
       " 0.326095 "
      ]
     },
     "execution_count": 24,
     "metadata": {},
     "output_type": "execute_result"
    }
   ],
   "source": [
    "v2 = rand(n)"
   ]
  },
  {
   "cell_type": "code",
   "execution_count": 25,
   "metadata": {
    "collapsed": false
   },
   "outputs": [
    {
     "data": {
      "text/plain": [
       "8x1 Array{Float64,2}:\n",
       " -0.505269 \n",
       " -0.368698 \n",
       " -0.304442 \n",
       " -0.0505499\n",
       "  0.0860207\n",
       "  0.163893 \n",
       "  0.489523 \n",
       "  0.489523 "
      ]
     },
     "execution_count": 25,
     "metadata": {},
     "output_type": "execute_result"
    }
   ],
   "source": [
    "for iter = 1:100\n",
    "    v2 = B * v2 - ρ * ones(n,1)/n * sum(v2)\n",
    "    v2 /= norm(v2)\n",
    "end\n",
    "v2"
   ]
  },
  {
   "cell_type": "markdown",
   "metadata": {},
   "source": [
    "# Knihovna Metis"
   ]
  },
  {
   "cell_type": "code",
   "execution_count": 26,
   "metadata": {
    "collapsed": false
   },
   "outputs": [
    {
     "name": "stderr",
     "output_type": "stream",
     "text": [
      "WARNING: Base.String is deprecated, use AbstractString instead.\n",
      "  likely near /home/furst/.julia/v0.4/Graphs/src/common.jl:3\n",
      "WARNING: Base.String is deprecated, use AbstractString instead.\n",
      "  likely near /home/furst/.julia/v0.4/Graphs/src/dot.jl:80\n"
     ]
    }
   ],
   "source": [
    "using Metis"
   ]
  },
  {
   "cell_type": "code",
   "execution_count": 27,
   "metadata": {
    "collapsed": false
   },
   "outputs": [
    {
     "data": {
      "text/plain": [
       "(3,Int32[1,1,1,1,2,2,2,2])"
      ]
     },
     "execution_count": 27,
     "metadata": {},
     "output_type": "execute_result"
    }
   ],
   "source": [
    "p2=partGraphRecursive(A1,2)"
   ]
  },
  {
   "cell_type": "code",
   "execution_count": 28,
   "metadata": {
    "collapsed": false
   },
   "outputs": [
    {
     "data": {
      "text/plain": [
       "1x8 Array{Float64,2}:\n",
       " -1.0  -1.0  -1.0  -1.0  1.0  1.0  1.0  1.0"
      ]
     },
     "execution_count": 28,
     "metadata": {},
     "output_type": "execute_result"
    }
   ],
   "source": [
    "c=2*(p2[2]-1.5)\n",
    "c'"
   ]
  },
  {
   "cell_type": "code",
   "execution_count": 29,
   "metadata": {
    "collapsed": false
   },
   "outputs": [
    {
     "data": {
      "text/plain": [
       "3.0"
      ]
     },
     "execution_count": 29,
     "metadata": {},
     "output_type": "execute_result"
    }
   ],
   "source": [
    "dot(E1*c,E1*c)/4"
   ]
  },
  {
   "cell_type": "code",
   "execution_count": null,
   "metadata": {
    "collapsed": true
   },
   "outputs": [],
   "source": []
  }
 ],
 "metadata": {
  "kernelspec": {
   "display_name": "Julia 0.4.6",
   "language": "julia",
   "name": "julia-0.4"
  },
  "language_info": {
   "file_extension": ".jl",
   "mimetype": "application/julia",
   "name": "julia",
   "version": "0.4.6"
  }
 },
 "nbformat": 4,
 "nbformat_minor": 0
}
