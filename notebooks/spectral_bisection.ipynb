{
 "cells": [
  {
   "cell_type": "markdown",
   "metadata": {},
   "source": [
    "# Spektrální bisekce grafu"
   ]
  },
  {
   "cell_type": "markdown",
   "metadata": {},
   "source": [
    "## Úvodní příklad\n",
    "\n",
    "Uvažujeme řídkou matici o rozměrech $6 \\times 6$ se symetrickou strukturou nenulových prvků, viz níže. Úkolem je rozdělit řádky (nebo sloupce) této matice tak, aby na každém z procesorů byl stejný počet řádků (*load balancing*) a při výpočtu součinu $y = Ax$ bylo provedeno co nejméně komunikací (*minimal cut*)."
   ]
  },
  {
   "cell_type": "code",
   "execution_count": 28,
   "metadata": {},
   "outputs": [],
   "source": [
    "using LinearAlgebra\n",
    "using SparseArrays"
   ]
  },
  {
   "cell_type": "code",
   "execution_count": 29,
   "metadata": {},
   "outputs": [
    {
     "data": {
      "text/plain": [
       "6×6 Array{Float64,2}:\n",
       " 4.0  1.0  1.0  0.0  0.0  0.0\n",
       " 1.0  4.0  1.0  1.0  0.0  0.0\n",
       " 1.0  1.0  4.0  0.0  0.0  1.0\n",
       " 0.0  1.0  0.0  4.0  1.0  1.0\n",
       " 0.0  0.0  0.0  1.0  4.0  1.0\n",
       " 0.0  0.0  1.0  1.0  1.0  4.0"
      ]
     },
     "execution_count": 29,
     "metadata": {},
     "output_type": "execute_result"
    }
   ],
   "source": [
    "A = 2 * sparse(1.0I,6,6)\n",
    "\n",
    "A[1, [2,3]] = [1,1]\n",
    "A[2, [3,4]] = [1,1]\n",
    "A[3, 6]     = 1\n",
    "A[4, [5,6]] = [1,1]\n",
    "A[5, 6]     = 1\n",
    "\n",
    "A = A + transpose(A)\n",
    "Array(A)"
   ]
  },
  {
   "cell_type": "code",
   "execution_count": 30,
   "metadata": {},
   "outputs": [],
   "source": [
    "using PyPlot;"
   ]
  },
  {
   "cell_type": "code",
   "execution_count": 31,
   "metadata": {},
   "outputs": [
    {
     "data": {
      "image/png": "[encoded data removed]",
      "text/plain": [
       "Figure(PyObject <Figure size 640x480 with 1 Axes>)"
      ]
     },
     "metadata": {},
     "output_type": "display_data"
    }
   ],
   "source": [
    "spy(Array(A));"
   ]
  },
  {
   "cell_type": "markdown",
   "metadata": {},
   "source": [
    "### Graf popisující strukturu matice\n",
    "\n",
    "Strukturu nenulových prvků matice $A$ popíšeme pomocí grafu\n",
    "$$\n",
    "    \\mathcal G = \\{\\mathcal V, \\mathcal E\\},\n",
    "$$\n",
    "kde \n",
    " - $\\mathcal V$ je množina vrcholů odpovídající řádkům matice, tj. $|\\mathcal V|=n=6$ a \n",
    " - $\\mathcal E = \\{ \\{i,j\\} : a_{ij} \\ne 0 \\land i\\ne j \\} $ je množina hran odpovídající nenulovým prvkům matice $A$.\n",
    " \n",
    "Pozn. uvažujeme matice se symetrickou strukturou, tj. $\\{i,j\\} = \\{j,i\\}$.\n",
    "\n",
    "V grafu zavedeme *libovolnou* orientaci (např. tak, že $i<j$). Pro tento **orientovaný** graf definujeme incidenční matici jako\n",
    "$$\n",
    "    E_{kj} = \\left\\{\n",
    "    \\begin{array}{ll}\n",
    "        -1 & \\mbox{pokud hrana $k$ vychází z vrcholu $j$,} \\\\\n",
    "        1 & \\mbox{pokud hrana $k$ vchází do vrcholu $j$,} \\\\\n",
    "        0 & \\mbox{jinak.} \n",
    "    \\end{array}\n",
    "    \\right.\n",
    "$$"
   ]
  },
  {
   "cell_type": "code",
   "execution_count": 5,
   "metadata": {},
   "outputs": [
    {
     "data": {
      "text/plain": [
       "incidence_matrix (generic function with 1 method)"
      ]
     },
     "execution_count": 5,
     "metadata": {},
     "output_type": "execute_result"
    }
   ],
   "source": [
    "function incidence_matrix(A)\n",
    "    n = size(A,1)\n",
    "    m = div((nnz(A) - n), 2)\n",
    "    E = spzeros(m,n)\n",
    "    rows = rowvals(A)\n",
    "    k = 1\n",
    "    for i = 1:n\n",
    "        for  l in nzrange(A,i)\n",
    "            j = rows[l]\n",
    "            if i < j\n",
    "                E[k,i] = -1.\n",
    "                E[k,j] =  1.\n",
    "                k+=1\n",
    "            end\n",
    "        end\n",
    "    end\n",
    "    return E\n",
    "end"
   ]
  },
  {
   "cell_type": "code",
   "execution_count": 6,
   "metadata": {},
   "outputs": [
    {
     "data": {
      "text/plain": [
       "8×6 Array{Float64,2}:\n",
       " -1.0   1.0   0.0   0.0   0.0  0.0\n",
       " -1.0   0.0   1.0   0.0   0.0  0.0\n",
       "  0.0  -1.0   1.0   0.0   0.0  0.0\n",
       "  0.0  -1.0   0.0   1.0   0.0  0.0\n",
       "  0.0   0.0  -1.0   0.0   0.0  1.0\n",
       "  0.0   0.0   0.0  -1.0   1.0  0.0\n",
       "  0.0   0.0   0.0  -1.0   0.0  1.0\n",
       "  0.0   0.0   0.0   0.0  -1.0  1.0"
      ]
     },
     "execution_count": 6,
     "metadata": {},
     "output_type": "execute_result"
    }
   ],
   "source": [
    "E = incidence_matrix(A)\n",
    "Array(E)"
   ]
  },
  {
   "cell_type": "markdown",
   "metadata": {},
   "source": [
    "Rozdělení vrcholů grafu na procesory $\\mathcal V = \\mathcal V_1 \\cup \\mathcal V_2$ ($\\mathcal V_1 \\cap \\mathcal V_2 = \\emptyset$) pak můžeme popsat pomocí vektoru $c \\in \\{-1,1\\}^n$ takto:\n",
    "$$\n",
    "  c_i = \\left\\{\n",
    "  \\begin{array}{ll}\n",
    "    -1 & \\mbox{pokud } i \\in \\mathcal V_1, \\\\\n",
    "    1 & \\mbox{pokud } i \\in \\mathcal V_2.\n",
    "  \\end{array}\n",
    "  \\right.\n",
    "$$"
   ]
  },
  {
   "cell_type": "code",
   "execution_count": 7,
   "metadata": {},
   "outputs": [
    {
     "data": {
      "text/plain": [
       "1×6 Adjoint{Int64,Array{Int64,1}}:\n",
       " 1  -1  1  -1  1  -1"
      ]
     },
     "execution_count": 7,
     "metadata": {},
     "output_type": "execute_result"
    }
   ],
   "source": [
    "c = [1, -1, 1, -1, 1, -1]\n",
    "c'"
   ]
  },
  {
   "cell_type": "markdown",
   "metadata": {},
   "source": [
    "Součin $E c$ pak je\n",
    "$$\n",
    "    (Ec)_k = \\left\\{\n",
    "    \\begin{array}{ll}\n",
    "      0 & \\mbox{pokud hrana $k$ začíná i končí ve stejné části grafu,} \\\\\n",
    "      \\pm 2 & \\mbox{pokud hrana začíná ve $\\mathcal V_1$ a končí $\\mathcal V_2$ nebo naopak.} \n",
    "    \\end{array}\n",
    "    \\right.\n",
    "$$"
   ]
  },
  {
   "cell_type": "code",
   "execution_count": 8,
   "metadata": {},
   "outputs": [
    {
     "data": {
      "text/plain": [
       "1×8 Adjoint{Float64,Array{Float64,1}}:\n",
       " -2.0  0.0  2.0  0.0  -2.0  2.0  0.0  -2.0"
      ]
     },
     "execution_count": 8,
     "metadata": {},
     "output_type": "execute_result"
    }
   ],
   "source": [
    "(E*c)'"
   ]
  },
  {
   "cell_type": "markdown",
   "metadata": {},
   "source": [
    "Mohutnost řezu (počet hran spojující $\\mathcal V_1$ s $\\mathcal V_2$, tj. počet nutných komunikací při výpočtu součinu $y=Ax$) je potom $||Ec||^2/4$."
   ]
  },
  {
   "cell_type": "code",
   "execution_count": 9,
   "metadata": {},
   "outputs": [
    {
     "data": {
      "text/plain": [
       "5.0"
      ]
     },
     "execution_count": 9,
     "metadata": {},
     "output_type": "execute_result"
    }
   ],
   "source": [
    "dot(E*c,E*c)/4"
   ]
  },
  {
   "cell_type": "markdown",
   "metadata": {},
   "source": [
    "### Optimální řez grafu\n",
    "\n",
    "Úlohu nalézt optimální řez grafu (se sudým počtem vrcholů) tedy můžeme formulovat takto: nalezněte vektor $c \\in \\{-1,1\\}^n$ takový, že \n",
    "- $\\sum_{i=1}^n c_i = (c, \\vec{1}) = 0$ (load balancing)\n",
    "- $c$ minimalizuje $||Ec||_2$\n",
    "navíc z definice $c$ je vidět, že $||c||^2 = n$.\n",
    "\n",
    "Tato úloha je však velmi obtížně řešitelná, proto přejdeme k přibližnému řešení v oboru reálných čísel.\n",
    "\n",
    "## Spektrální bisekce grafu v oboru reálných čísel\n",
    "Budeme uvažovat vektor $c \\in \\mathbb R^n$. Potom úlohu přeformulujeme takto: nalezněte reálný vektor $c\\in \\mathbb R^n$ takový, že\n",
    "- $||c||=1$\n",
    "- $(c,\\vec{1}) = 0$\n",
    "- $c$ minimalizuje $||Ec||^2 = (Ec,Ec)$.\n",
    "\n",
    "Minimalizovaný výraz přepíšeme jako $||Ec||^2 = (Ec,Ec) = (E^TEc,c) = (Lc,c)$, kde $L=E^TE$\n",
    "\n",
    "Matice $L$ se nazývá **Laplaceova matice** grafu a její prvky jsou\n",
    "$$\n",
    "    L_{ij} = \\left\\{\n",
    "        \\begin{array}{ll}\n",
    "            |v_i| & \\mbox{pro } i=j, \\\\\n",
    "            -1 & \\mbox{pro } a_{ij}\\ne 0 \\land i\\ne j, \\\\\n",
    "            0 & \\mbox{jinak}\n",
    "        \\end{array}\n",
    "    \\right.\n",
    "$$"
   ]
  },
  {
   "cell_type": "code",
   "execution_count": 10,
   "metadata": {},
   "outputs": [
    {
     "data": {
      "text/plain": [
       "6×6 Array{Float64,2}:\n",
       "  2.0  -1.0  -1.0   0.0   0.0   0.0\n",
       " -1.0   3.0  -1.0  -1.0   0.0   0.0\n",
       " -1.0  -1.0   3.0   0.0   0.0  -1.0\n",
       "  0.0  -1.0   0.0   3.0  -1.0  -1.0\n",
       "  0.0   0.0   0.0  -1.0   2.0  -1.0\n",
       "  0.0   0.0  -1.0  -1.0  -1.0   3.0"
      ]
     },
     "execution_count": 10,
     "metadata": {},
     "output_type": "execute_result"
    }
   ],
   "source": [
    "L = transpose(E) * E\n",
    "Array(L)"
   ]
  },
  {
   "cell_type": "markdown",
   "metadata": {},
   "source": [
    "Matice $L$ je symetrická pozitivně semidefinitní matice. Lze jí tedy diagonalizovat nad $\\mathbb R$ a z jejích vlastních vektorů lze sestavit ortonormální bázi. Seřaďme vlastní čísla dle velikosti $0=\\lambda_1 \\le \\lambda_2 \\le ... \\le \\lambda_n$. Nechť $q_k$ je $k$-tý bázový vektor příslušející vlastnímu číslu $\\lambda_k$ a $\\gamma_k$ je $k$-tá souřadnice $c$ v této bázi (tj. $c=\\sum \\gamma_k q_k$), potom\n",
    "$$\n",
    "  1 = ||c||^2 = (c,c) = \\sum_{k=1}^{n}{\\gamma_k}^2,\n",
    "$$\n",
    "$$\n",
    "    Lc = \\sum \\gamma_k L q_k = \\sum \\lambda_k \\gamma_k q_k,\n",
    "$$\n",
    "a\n",
    "$$\n",
    "    (Lc,c) = \\sum \\lambda_k \\gamma_k^2. \n",
    "$$\n",
    "\n",
    "Dále platí $L \\vec{1} = 0$ a tedy $\\vec{1}$ je vlastní vektor odpovídající vlastnímu číslu $\\lambda_1=0$. Minimalizaci $(Lc,c)$ tedy budeme provádět na ortogonálním doplňku $\\vec{1}$, tj. na $span\\{q_2,q_3,...,q_n\\}$.\n",
    "\n",
    "Je-li $\\lambda_2$ jednonásobné, je $(Lc,c)$ řešením vektor $q_2$. "
   ]
  },
  {
   "cell_type": "code",
   "execution_count": 11,
   "metadata": {},
   "outputs": [
    {
     "data": {
      "text/plain": [
       "6-element Array{Float64,1}:\n",
       " 4.440892098500626e-15\n",
       " 1.0000000000000036   \n",
       " 3.000000000000001    \n",
       " 3.0000000000000018   \n",
       " 4.000000000000001    \n",
       " 5.0                  "
      ]
     },
     "execution_count": 11,
     "metadata": {},
     "output_type": "execute_result"
    }
   ],
   "source": [
    "eig=eigen(Array(L))\n",
    "lambda = eig.values"
   ]
  },
  {
   "cell_type": "code",
   "execution_count": 12,
   "metadata": {},
   "outputs": [
    {
     "data": {
      "text/plain": [
       "6-element Array{Float64,1}:\n",
       " -0.577350269189626  \n",
       " -0.2886751345948134 \n",
       " -0.2886751345948133 \n",
       "  0.28867513459481275\n",
       "  0.5773502691896253 \n",
       "  0.2886751345948126 "
      ]
     },
     "execution_count": 12,
     "metadata": {},
     "output_type": "execute_result"
    }
   ],
   "source": [
    "v2 = eig.vectors[:,2]"
   ]
  },
  {
   "cell_type": "markdown",
   "metadata": {},
   "source": [
    "Vrcholy rozdělíme podle znamének prvků $q_2$"
   ]
  },
  {
   "cell_type": "code",
   "execution_count": 13,
   "metadata": {},
   "outputs": [
    {
     "data": {
      "text/plain": [
       "2.0"
      ]
     },
     "execution_count": 13,
     "metadata": {},
     "output_type": "execute_result"
    }
   ],
   "source": [
    "c=[-1,-1,-1,1,1,1]\n",
    "dot(E*c,E*c)/4"
   ]
  },
  {
   "cell_type": "markdown",
   "metadata": {},
   "source": [
    "## Příklad 2 - matice s lichým počtem řádků "
   ]
  },
  {
   "cell_type": "code",
   "execution_count": 14,
   "metadata": {},
   "outputs": [
    {
     "data": {
      "text/plain": [
       "7×7 Array{Float64,2}:\n",
       " 4.0  1.0  1.0  0.0  0.0  0.0  0.0\n",
       " 1.0  4.0  1.0  1.0  0.0  0.0  0.0\n",
       " 1.0  1.0  4.0  0.0  0.0  1.0  0.0\n",
       " 0.0  1.0  0.0  4.0  1.0  1.0  0.0\n",
       " 0.0  0.0  0.0  1.0  4.0  1.0  1.0\n",
       " 0.0  0.0  1.0  1.0  1.0  4.0  1.0\n",
       " 0.0  0.0  0.0  0.0  1.0  1.0  4.0"
      ]
     },
     "execution_count": 14,
     "metadata": {},
     "output_type": "execute_result"
    }
   ],
   "source": [
    "B = 2 * sparse(1.0I,7,7)\n",
    "\n",
    "B[1, 2] = 1; B[1, 3] = 1;\n",
    "B[2, 3] = 1; B[2, 4] = 1;\n",
    "B[3, 6] = 1;\n",
    "B[4, 5] = 1; B[4, 6] = 1;\n",
    "B[5, 6] = 1; B[5, 7] = 1;\n",
    "B[6, 7] = 1\n",
    "B = B + transpose(B)\n",
    "Array(B)"
   ]
  },
  {
   "cell_type": "code",
   "execution_count": 15,
   "metadata": {},
   "outputs": [
    {
     "data": {
      "text/plain": [
       "1×7 Adjoint{Float64,Array{Float64,1}}:\n",
       " 6.21725e-15  0.814349  2.32801  3.31391  3.59809  4.45753  5.48812"
      ]
     },
     "execution_count": 15,
     "metadata": {},
     "output_type": "execute_result"
    }
   ],
   "source": [
    "EB = incidence_matrix(B);\n",
    "LB = transpose(EB)*EB\n",
    "eigb = eigen(Array(LB))\n",
    "eigb.values'"
   ]
  },
  {
   "cell_type": "code",
   "execution_count": 16,
   "metadata": {},
   "outputs": [
    {
     "data": {
      "text/plain": [
       "1×7 Adjoint{Float64,Array{Float64,1}}:\n",
       " -0.560099  -0.347898  -0.316183  0.115898  0.38428  0.216931  0.507072"
      ]
     },
     "execution_count": 16,
     "metadata": {},
     "output_type": "execute_result"
    }
   ],
   "source": [
    "eigb.vectors[:,2]'"
   ]
  },
  {
   "cell_type": "markdown",
   "metadata": {},
   "source": [
    "## Příklad 3 - dělení na 3 procesory\n",
    "\n",
    "Matici $A$ ($n=6$) nejprve rozdělíme v poměru 1:2 na dva procesory, pak vetší díl rozdělíme opět na 2 procesory.\n",
    "\n",
    "Původní matici modifikujeme tak, že přidáme řádky a nenulové prvky tak, aby nově přidané řádky tvořily s posledním vrcholem původního grafu kliku."
   ]
  },
  {
   "cell_type": "code",
   "execution_count": 17,
   "metadata": {},
   "outputs": [
    {
     "data": {
      "text/plain": [
       "8×8 Array{Float64,2}:\n",
       " 2.0  1.0  1.0  0.0  0.0  0.0  0.0  0.0\n",
       " 1.0  2.0  1.0  1.0  0.0  0.0  0.0  0.0\n",
       " 1.0  1.0  2.0  0.0  0.0  1.0  0.0  0.0\n",
       " 0.0  1.0  0.0  2.0  1.0  1.0  0.0  0.0\n",
       " 0.0  0.0  0.0  1.0  2.0  1.0  0.0  0.0\n",
       " 0.0  0.0  1.0  1.0  1.0  2.0  1.0  1.0\n",
       " 0.0  0.0  0.0  0.0  0.0  1.0  2.0  1.0\n",
       " 0.0  0.0  0.0  0.0  0.0  1.0  1.0  2.0"
      ]
     },
     "execution_count": 17,
     "metadata": {},
     "output_type": "execute_result"
    }
   ],
   "source": [
    "A1 = sparse(1.0*I, 8,8)\n",
    "#A = 2 * sparse(1.0*I, 6,6)\n",
    "\n",
    "A1[1, 2] = 1; A1[1 ,3] = 1\n",
    "A1[2, 3] = 1; A1[2 ,4] = 1\n",
    "A1[3, 6] = 1\n",
    "A1[4, 5] = 1; A1[4,6] = 1\n",
    "A1[5, 6]     = 1\n",
    "\n",
    "# Dodatečné prvky\n",
    "A1[7,8] = 1\n",
    "\n",
    "# Napojení na zbytek matice\n",
    "A1[6,7] = 1; A1[6,8] = 1\n",
    "\n",
    "A1 = A1 + transpose(A1)\n",
    "Array(A1)"
   ]
  },
  {
   "cell_type": "code",
   "execution_count": 18,
   "metadata": {},
   "outputs": [
    {
     "data": {
      "image/png": "[encoded data removed]",
      "text/plain": [
       "Figure(PyObject <Figure size 640x480 with 1 Axes>)"
      ]
     },
     "metadata": {},
     "output_type": "display_data"
    },
    {
     "data": {
      "text/plain": [
       "PyObject <matplotlib.image.AxesImage object at 0x7fd018696978>"
      ]
     },
     "execution_count": 18,
     "metadata": {},
     "output_type": "execute_result"
    }
   ],
   "source": [
    "spy(Array(A1))"
   ]
  },
  {
   "cell_type": "code",
   "execution_count": 19,
   "metadata": {},
   "outputs": [
    {
     "data": {
      "text/plain": [
       "1×8 Adjoint{Float64,Array{Float64,1}}:\n",
       " 1.72492e-16  0.666432  1.27766  3.0  3.0  3.45155  4.35771  6.24665"
      ]
     },
     "execution_count": 19,
     "metadata": {},
     "output_type": "execute_result"
    }
   ],
   "source": [
    "E1 = incidence_matrix(A1);\n",
    "L1 = transpose(E1)*E1\n",
    "eig1 = eigen(Array(L1))\n",
    "eig1.values'"
   ]
  },
  {
   "cell_type": "code",
   "execution_count": 20,
   "metadata": {},
   "outputs": [
    {
     "data": {
      "text/plain": [
       "8-element Array{Float64,1}:\n",
       " -0.5041749916011007  \n",
       " -0.36850098401530174 \n",
       " -0.3038507461506857  \n",
       " -0.051896435925743514\n",
       "  0.08377757166005582 \n",
       "  0.1636195403896597  \n",
       "  0.4905130228215556  \n",
       "  0.49051302282155734 "
      ]
     },
     "execution_count": 20,
     "metadata": {},
     "output_type": "execute_result"
    }
   ],
   "source": [
    "eig1.vectors[:,2]"
   ]
  },
  {
   "cell_type": "markdown",
   "metadata": {},
   "source": [
    "## Nalezení vlastního vektoru $v_2$\n",
    "\n",
    "Pro matici $L$ platí $\\rho_L \\le 2 \\max_i L_{ii}$ (viz Geršgorinovo lemma)"
   ]
  },
  {
   "cell_type": "code",
   "execution_count": 21,
   "metadata": {},
   "outputs": [
    {
     "data": {
      "text/plain": [
       "6.246645602915109"
      ]
     },
     "execution_count": 21,
     "metadata": {},
     "output_type": "execute_result"
    }
   ],
   "source": [
    "maximum(eigvals(Array(L1)))"
   ]
  },
  {
   "cell_type": "code",
   "execution_count": 22,
   "metadata": {},
   "outputs": [
    {
     "data": {
      "text/plain": [
       "10.0"
      ]
     },
     "execution_count": 22,
     "metadata": {},
     "output_type": "execute_result"
    }
   ],
   "source": [
    "ρ =  2*maximum(diag(L1))"
   ]
  },
  {
   "cell_type": "code",
   "execution_count": 23,
   "metadata": {},
   "outputs": [
    {
     "data": {
      "text/plain": [
       "8-element Array{Float64,1}:\n",
       "  3.7533543970848933\n",
       "  5.642285315132974 \n",
       "  6.5484493182965124\n",
       "  6.999999999999998 \n",
       "  7.0               \n",
       "  8.722342781125452 \n",
       "  9.333568188360175 \n",
       " 10.000000000000002 "
      ]
     },
     "execution_count": 23,
     "metadata": {},
     "output_type": "execute_result"
    }
   ],
   "source": [
    "n = size(L1)[1]\n",
    "B = ρ*sparse(1.0I,n,n) - L1\n",
    "eigvals(Array(B))"
   ]
  },
  {
   "cell_type": "code",
   "execution_count": 24,
   "metadata": {},
   "outputs": [
    {
     "data": {
      "text/plain": [
       "8-element Array{Float64,1}:\n",
       " -7.008367546241026e-16\n",
       "  3.75335439708489     \n",
       "  5.642285315132974    \n",
       "  6.548449318296517    \n",
       "  6.999999999999998    \n",
       "  7.000000000000002    \n",
       "  8.722342781125446    \n",
       "  9.333568188360177    "
      ]
     },
     "execution_count": 24,
     "metadata": {},
     "output_type": "execute_result"
    }
   ],
   "source": [
    "C = B - ones(n,n)/n*ρ;\n",
    "eigvals(C)"
   ]
  },
  {
   "cell_type": "code",
   "execution_count": 25,
   "metadata": {},
   "outputs": [
    {
     "data": {
      "text/plain": [
       "8-element Array{Float64,1}:\n",
       " 0.6545929041407128\n",
       " 0.8944332252221858\n",
       " 0.3980446395857675\n",
       " 0.9233312887856762\n",
       " 0.8804257705313983\n",
       " 0.5414206655237457\n",
       " 0.307506920301007 \n",
       " 0.6677145925150083"
      ]
     },
     "execution_count": 25,
     "metadata": {},
     "output_type": "execute_result"
    }
   ],
   "source": [
    "v2 = rand(n)"
   ]
  },
  {
   "cell_type": "code",
   "execution_count": 26,
   "metadata": {},
   "outputs": [
    {
     "data": {
      "text/plain": [
       "8×1 Array{Float64,2}:\n",
       "  0.5033618200989188  \n",
       "  0.368352530750492   \n",
       "  0.30341092677361875 \n",
       "  0.052893093224346675\n",
       " -0.08211619612456181 \n",
       " -0.1634159681581485  \n",
       " -0.49124310328263976 \n",
       " -0.491243103282026   "
      ]
     },
     "execution_count": 26,
     "metadata": {},
     "output_type": "execute_result"
    }
   ],
   "source": [
    "for iter = 1:100\n",
    "    v2 = B * v2 - ρ * ones(n,1)/n * sum(v2)\n",
    "    v2 /= norm(v2)\n",
    "end\n",
    "v2"
   ]
  },
  {
   "cell_type": "code",
   "execution_count": 27,
   "metadata": {},
   "outputs": [
    {
     "data": {
      "text/plain": [
       "8×8 Array{Float64,2}:\n",
       " -0.353553  -0.504175   -0.338876   …   0.450613   -0.227231   -0.0358441\n",
       " -0.353553  -0.368501   -0.0615343      0.138152    0.660569   -0.173157 \n",
       " -0.353553  -0.303851   -0.18325       -0.79224    -0.124824    0.325374 \n",
       " -0.353553  -0.0518964   0.416143       0.279244   -0.544809    0.272649 \n",
       " -0.353553   0.0837776   0.693484      -0.0332164   0.34299     0.135336 \n",
       " -0.353553   0.16362     0.0847905  …  -0.231029   -0.263863   -0.847373 \n",
       " -0.353553   0.490513   -0.305379       0.0942379   0.0785841   0.161508 \n",
       " -0.353553   0.490513   -0.305379       0.0942379   0.0785841   0.161508 "
      ]
     },
     "execution_count": 27,
     "metadata": {},
     "output_type": "execute_result"
    }
   ],
   "source": [
    "eigen(Array(L1)).vectors"
   ]
  },
  {
   "cell_type": "code",
   "execution_count": null,
   "metadata": {},
   "outputs": [],
   "source": []
  }
 ],
 "metadata": {
  "kernelspec": {
   "display_name": "Julia 1.0.0",
   "language": "julia",
   "name": "julia-1.0"
  },
  "language_info": {
   "file_extension": ".jl",
   "mimetype": "application/julia",
   "name": "julia",
   "version": "1.0.0"
  }
 },
 "nbformat": 4,
 "nbformat_minor": 1
}
