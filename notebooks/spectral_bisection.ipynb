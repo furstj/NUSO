{
 "cells": [
  {
   "cell_type": "markdown",
   "metadata": {},
   "source": [
    "# Spektrální bisekce grafu"
   ]
  },
  {
   "cell_type": "code",
   "execution_count": 1,
   "metadata": {
    "collapsed": false
   },
   "outputs": [
    {
     "data": {
      "text/plain": [
       "6x6 Array{Float64,2}:\n",
       " 4.0  1.0  1.0  0.0  0.0  0.0\n",
       " 1.0  4.0  1.0  1.0  0.0  0.0\n",
       " 1.0  1.0  4.0  0.0  0.0  1.0\n",
       " 0.0  1.0  0.0  4.0  1.0  1.0\n",
       " 0.0  0.0  0.0  1.0  4.0  1.0\n",
       " 0.0  0.0  1.0  1.0  1.0  4.0"
      ]
     },
     "execution_count": 1,
     "metadata": {},
     "output_type": "execute_result"
    }
   ],
   "source": [
    "A = 2 * speye(6,6)\n",
    "\n",
    "A[1, [2,3]] = [1,1]\n",
    "A[2, [3,4]] = [1,1]\n",
    "A[3, 6]     = 1\n",
    "A[4, [5,6]] = [1,1]\n",
    "A[5, 6]     = 1\n",
    "\n",
    "A = A + transpose(A)\n",
    "full(A)"
   ]
  },
  {
   "cell_type": "code",
   "execution_count": 2,
   "metadata": {
    "collapsed": false
   },
   "outputs": [],
   "source": [
    "using PyPlot"
   ]
  },
  {
   "cell_type": "code",
   "execution_count": 3,
   "metadata": {
    "collapsed": false
   },
   "outputs": [
    {
     "data": {
      "image/png": "[encoded data removed]",
      "text/plain": [
       "PyPlot.Figure(PyObject <matplotlib.figure.Figure object at 0x7fcc8e23cdd0>)"
      ]
     },
     "metadata": {},
     "output_type": "display_data"
    }
   ],
   "source": [
    "spy(A);"
   ]
  },
  {
   "cell_type": "code",
   "execution_count": 37,
   "metadata": {
    "collapsed": false
   },
   "outputs": [
    {
     "data": {
      "text/plain": [
       "incidence_matrix (generic function with 1 method)"
      ]
     },
     "execution_count": 37,
     "metadata": {},
     "output_type": "execute_result"
    }
   ],
   "source": [
    "function incidence_matrix(A)\n",
    "    n = size(A,1)\n",
    "    m = div((nnz(A) - n), 2)\n",
    "    E = spzeros(m,n)\n",
    "    rows = rowvals(A)\n",
    "    k = 1\n",
    "    for i = 1:n\n",
    "        for  l in nzrange(A,i)\n",
    "            j = rows[l]\n",
    "            if i < j\n",
    "                E[k,i] = -1.\n",
    "                E[k,j] =  1.\n",
    "                k+=1\n",
    "            end\n",
    "        end\n",
    "    end\n",
    "    return E\n",
    "end"
   ]
  },
  {
   "cell_type": "code",
   "execution_count": 36,
   "metadata": {
    "collapsed": false
   },
   "outputs": [
    {
     "name": "stdout",
     "output_type": "stream",
     "text": [
      "23456789"
     ]
    },
    {
     "data": {
      "text/plain": [
       "8x6 Array{Float64,2}:\n",
       " -1.0   1.0   0.0   0.0   0.0  0.0\n",
       " -1.0   0.0   1.0   0.0   0.0  0.0\n",
       "  0.0  -1.0   1.0   0.0   0.0  0.0\n",
       "  0.0  -1.0   0.0   1.0   0.0  0.0\n",
       "  0.0   0.0  -1.0   0.0   0.0  1.0\n",
       "  0.0   0.0   0.0  -1.0   1.0  0.0\n",
       "  0.0   0.0   0.0  -1.0   0.0  1.0\n",
       "  0.0   0.0   0.0   0.0  -1.0  1.0"
      ]
     },
     "execution_count": 36,
     "metadata": {},
     "output_type": "execute_result"
    }
   ],
   "source": [
    "E = incidence_matrix(A)\n",
    "full(E)"
   ]
  },
  {
   "cell_type": "code",
   "execution_count": 40,
   "metadata": {
    "collapsed": false
   },
   "outputs": [
    {
     "data": {
      "text/plain": [
       "6-element Array{Int64,1}:\n",
       "  1\n",
       " -1\n",
       "  1\n",
       " -1\n",
       "  1\n",
       " -1"
      ]
     },
     "execution_count": 40,
     "metadata": {},
     "output_type": "execute_result"
    }
   ],
   "source": [
    "c = [1, -1, 1, -1, 1, -1]"
   ]
  },
  {
   "cell_type": "code",
   "execution_count": 44,
   "metadata": {
    "collapsed": false
   },
   "outputs": [
    {
     "data": {
      "text/plain": [
       "8-element Array{Float64,1}:\n",
       " -2.0\n",
       "  0.0\n",
       "  2.0\n",
       "  0.0\n",
       " -2.0\n",
       "  2.0\n",
       "  0.0\n",
       " -2.0"
      ]
     },
     "execution_count": 44,
     "metadata": {},
     "output_type": "execute_result"
    }
   ],
   "source": [
    "E*c"
   ]
  },
  {
   "cell_type": "code",
   "execution_count": 43,
   "metadata": {
    "collapsed": false
   },
   "outputs": [
    {
     "data": {
      "text/plain": [
       "5.0"
      ]
     },
     "execution_count": 43,
     "metadata": {},
     "output_type": "execute_result"
    }
   ],
   "source": [
    "dot(E*c,E*c)/4"
   ]
  },
  {
   "cell_type": "code",
   "execution_count": 39,
   "metadata": {
    "collapsed": false
   },
   "outputs": [
    {
     "data": {
      "text/plain": [
       "6x6 Array{Float64,2}:\n",
       "  2.0  -1.0  -1.0   0.0   0.0   0.0\n",
       " -1.0   3.0  -1.0  -1.0   0.0   0.0\n",
       " -1.0  -1.0   3.0   0.0   0.0  -1.0\n",
       "  0.0  -1.0   0.0   3.0  -1.0  -1.0\n",
       "  0.0   0.0   0.0  -1.0   2.0  -1.0\n",
       "  0.0   0.0  -1.0  -1.0  -1.0   3.0"
      ]
     },
     "execution_count": 39,
     "metadata": {},
     "output_type": "execute_result"
    }
   ],
   "source": [
    "L = transpose(E) * E\n",
    "full(L)"
   ]
  },
  {
   "cell_type": "code",
   "execution_count": 49,
   "metadata": {
    "collapsed": false
   },
   "outputs": [
    {
     "data": {
      "text/plain": [
       "([4.440892098500626e-15,1.0000000000000036,3.0,3.000000000000001,4.000000000000002,5.000000000000001],\n",
       "6x6 Array{Float64,2}:\n",
       " -0.408248  -0.57735    0.5           0.288675  -0.408248  -1.66533e-16\n",
       " -0.408248  -0.288675  -0.5           0.288675   0.408248   0.5        \n",
       " -0.408248  -0.288675  -8.32667e-16  -0.57735    0.408248  -0.5        \n",
       " -0.408248   0.288675  -0.5           0.288675  -0.408248  -0.5        \n",
       " -0.408248   0.57735    0.5           0.288675   0.408248   9.99201e-16\n",
       " -0.408248   0.288675   0.0          -0.57735   -0.408248   0.5        )"
      ]
     },
     "execution_count": 49,
     "metadata": {},
     "output_type": "execute_result"
    }
   ],
   "source": [
    "eig(full(L))"
   ]
  },
  {
   "cell_type": "markdown",
   "metadata": {},
   "source": [
    "## Příklad 2"
   ]
  },
  {
   "cell_type": "code",
   "execution_count": null,
   "metadata": {
    "collapsed": true
   },
   "outputs": [],
   "source": []
  }
 ],
 "metadata": {
  "kernelspec": {
   "display_name": "Julia 0.4.6",
   "language": "julia",
   "name": "julia-0.4"
  },
  "language_info": {
   "file_extension": ".jl",
   "mimetype": "application/julia",
   "name": "julia",
   "version": "0.4.6"
  }
 },
 "nbformat": 4,
 "nbformat_minor": 0
}
