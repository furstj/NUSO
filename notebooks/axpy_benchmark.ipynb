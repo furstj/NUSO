{
 "cells": [
  {
   "cell_type": "code",
   "execution_count": 1,
   "metadata": {},
   "outputs": [],
   "source": [
    "using BenchmarkTools"
   ]
  },
  {
   "cell_type": "code",
   "execution_count": 2,
   "metadata": {},
   "outputs": [
    {
     "data": {
      "text/plain": [
       "maxpy! (generic function with 1 method)"
      ]
     },
     "execution_count": 2,
     "metadata": {},
     "output_type": "execute_result"
    }
   ],
   "source": [
    "function maxpy!(a::Float64, x::Array{Float64,1}, y::Array{Float64,1})\n",
    "    n = size(y,1)\n",
    "    for i=1:n\n",
    "        y[i] += a * x[i]\n",
    "    end\n",
    "end"
   ]
  },
  {
   "cell_type": "code",
   "execution_count": 3,
   "metadata": {
    "collapsed": true
   },
   "outputs": [],
   "source": [
    "a=1.2;"
   ]
  },
  {
   "cell_type": "code",
   "execution_count": 4,
   "metadata": {},
   "outputs": [
    {
     "data": {
      "text/plain": [
       "BenchmarkTools.Trial: \n",
       "  memory estimate:  0 bytes\n",
       "  allocs estimate:  0\n",
       "  --------------\n",
       "  minimum time:     1.886 ms (0.00% GC)\n",
       "  median time:      2.026 ms (0.00% GC)\n",
       "  mean time:        2.029 ms (0.00% GC)\n",
       "  maximum time:     2.737 ms (0.00% GC)\n",
       "  --------------\n",
       "  samples:          707\n",
       "  evals/sample:     1"
      ]
     },
     "execution_count": 4,
     "metadata": {},
     "output_type": "execute_result"
    }
   ],
   "source": [
    "@benchmark maxpy!(a,x,y) setup=(x=rand(1000000); y=copy(x))"
   ]
  },
  {
   "cell_type": "code",
   "execution_count": 5,
   "metadata": {},
   "outputs": [
    {
     "data": {
      "text/plain": [
       "BenchmarkTools.Trial: \n",
       "  memory estimate:  15.26 MiB\n",
       "  allocs estimate:  4\n",
       "  --------------\n",
       "  minimum time:     4.827 ms (0.00% GC)\n",
       "  median time:      5.482 ms (7.15% GC)\n",
       "  mean time:        5.518 ms (4.88% GC)\n",
       "  maximum time:     6.800 ms (6.34% GC)\n",
       "  --------------\n",
       "  samples:          447\n",
       "  evals/sample:     1"
      ]
     },
     "execution_count": 5,
     "metadata": {},
     "output_type": "execute_result"
    }
   ],
   "source": [
    "@benchmark y+=a*x setup=(x=rand(1000000); y=copy(x))"
   ]
  },
  {
   "cell_type": "code",
   "execution_count": 6,
   "metadata": {},
   "outputs": [
    {
     "data": {
      "text/plain": [
       "blas_axpy! (generic function with 1 method)"
      ]
     },
     "execution_count": 6,
     "metadata": {},
     "output_type": "execute_result"
    }
   ],
   "source": [
    "function blas_axpy!(a::Float64, x::Array{Float64,1}, y::Array{Float64,1})\n",
    "    ccall( (:cblas_daxpy, \"libopenblas\"),\n",
    "        Void, (Clonglong, Cdouble, Ptr{Cdouble}, Clonglong, Ptr{Cdouble}, Clonglong),\n",
    "        size(y,1), a, x, 1, y, 1)\n",
    "end    "
   ]
  },
  {
   "cell_type": "code",
   "execution_count": 7,
   "metadata": {},
   "outputs": [
    {
     "data": {
      "text/plain": [
       "BenchmarkTools.Trial: \n",
       "  memory estimate:  0 bytes\n",
       "  allocs estimate:  0\n",
       "  --------------\n",
       "  minimum time:     2.014 ms (0.00% GC)\n",
       "  median time:      2.088 ms (0.00% GC)\n",
       "  mean time:        2.094 ms (0.00% GC)\n",
       "  maximum time:     2.448 ms (0.00% GC)\n",
       "  --------------\n",
       "  samples:          749\n",
       "  evals/sample:     1"
      ]
     },
     "execution_count": 7,
     "metadata": {},
     "output_type": "execute_result"
    }
   ],
   "source": [
    "@benchmark blas_axpy!(a,x,y) setup=(x=rand(1000000); y=copy(x))"
   ]
  },
  {
   "cell_type": "markdown",
   "metadata": {},
   "source": [
    "---"
   ]
  },
  {
   "cell_type": "code",
   "execution_count": 8,
   "metadata": {},
   "outputs": [
    {
     "data": {
      "text/plain": [
       "measure_maxpy (generic function with 1 method)"
      ]
     },
     "execution_count": 8,
     "metadata": {},
     "output_type": "execute_result"
    }
   ],
   "source": [
    "function measure_maxpy(n)\n",
    "    t = @benchmark maxpy!(a,x,y) setup=(x=rand($n); y=copy(x))\n",
    "    mflops = 2*n / median(t).time * 1.e3\n",
    "end"
   ]
  },
  {
   "cell_type": "code",
   "execution_count": 9,
   "metadata": {},
   "outputs": [
    {
     "data": {
      "text/plain": [
       "2681.6898971658434"
      ]
     },
     "execution_count": 9,
     "metadata": {},
     "output_type": "execute_result"
    }
   ],
   "source": [
    "measure_maxpy(1000)"
   ]
  },
  {
   "cell_type": "code",
   "execution_count": 10,
   "metadata": {},
   "outputs": [
    {
     "data": {
      "text/plain": [
       "15-element Array{Int64,1}:\n",
       "       10\n",
       "       27\n",
       "       72\n",
       "      193\n",
       "      518\n",
       "     1389\n",
       "     3728\n",
       "    10000\n",
       "    26827\n",
       "    71969\n",
       "   193070\n",
       "   517947\n",
       "  1389495\n",
       "  3727594\n",
       " 10000000"
      ]
     },
     "execution_count": 10,
     "metadata": {},
     "output_type": "execute_result"
    }
   ],
   "source": [
    "sizes = round.(Int, logspace(1,7,15))"
   ]
  },
  {
   "cell_type": "code",
   "execution_count": 11,
   "metadata": {},
   "outputs": [
    {
     "data": {
      "text/plain": [
       "15-element Array{Float64,1}:\n",
       "  764.038\n",
       " 1347.55 \n",
       " 1984.0  \n",
       " 2296.71 \n",
       " 2495.56 \n",
       " 2596.02 \n",
       " 2665.29 \n",
       " 2569.66 \n",
       " 2595.24 \n",
       " 2466.97 \n",
       " 1892.07 \n",
       "  995.445\n",
       "  965.5  \n",
       "  939.592\n",
       "  916.732"
      ]
     },
     "execution_count": 11,
     "metadata": {},
     "output_type": "execute_result"
    }
   ],
   "source": [
    "mflops = [measure_maxpy(n) for n in sizes]"
   ]
  },
  {
   "cell_type": "code",
   "execution_count": null,
   "metadata": {},
   "outputs": [],
   "source": [
    "using PyPlot"
   ]
  },
  {
   "cell_type": "code",
   "execution_count": null,
   "metadata": {},
   "outputs": [],
   "source": [
    "semilogx(sizes, mflops)\n",
    "grid(true)\n",
    "xlabel(\"size\"); ylabel(\"MFLOPS\");"
   ]
  },
  {
   "cell_type": "code",
   "execution_count": null,
   "metadata": {
    "collapsed": true
   },
   "outputs": [],
   "source": []
  }
 ],
 "metadata": {
  "kernelspec": {
   "display_name": "Julia 0.6.0",
   "language": "julia",
   "name": "julia-0.6"
  },
  "language_info": {
   "file_extension": ".jl",
   "mimetype": "application/julia",
   "name": "julia",
   "version": "0.6.0"
  }
 },
 "nbformat": 4,
 "nbformat_minor": 2
}
