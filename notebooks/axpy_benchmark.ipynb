{
 "cells": [
  {
   "cell_type": "code",
   "execution_count": 1,
   "metadata": {},
   "outputs": [],
   "source": [
    "using BenchmarkTools"
   ]
  },
  {
   "cell_type": "code",
   "execution_count": 2,
   "metadata": {},
   "outputs": [
    {
     "data": {
      "text/plain": [
       "maxpy! (generic function with 1 method)"
      ]
     },
     "execution_count": 2,
     "metadata": {},
     "output_type": "execute_result"
    }
   ],
   "source": [
    "function maxpy!(a::Float64, x::Array{Float64,1}, y::Array{Float64,1})\n",
    "    @simd for i=1:length(y)\n",
    "        @inbounds y[i] += a * x[i]\n",
    "    end\n",
    "end"
   ]
  },
  {
   "cell_type": "code",
   "execution_count": 3,
   "metadata": {
    "collapsed": true
   },
   "outputs": [],
   "source": [
    "a=1.2;"
   ]
  },
  {
   "cell_type": "code",
   "execution_count": 4,
   "metadata": {},
   "outputs": [
    {
     "data": {
      "text/plain": [
       "BenchmarkTools.Trial: \n",
       "  memory estimate:  0 bytes\n",
       "  allocs estimate:  0\n",
       "  --------------\n",
       "  minimum time:     1.819 ms (0.00% GC)\n",
       "  median time:      1.927 ms (0.00% GC)\n",
       "  mean time:        1.954 ms (0.00% GC)\n",
       "  maximum time:     3.320 ms (0.00% GC)\n",
       "  --------------\n",
       "  samples:          780\n",
       "  evals/sample:     1"
      ]
     },
     "execution_count": 4,
     "metadata": {},
     "output_type": "execute_result"
    }
   ],
   "source": [
    "@benchmark maxpy!(a,x,y) setup=(x=rand(1000000); y=copy(x))"
   ]
  },
  {
   "cell_type": "code",
   "execution_count": 5,
   "metadata": {},
   "outputs": [
    {
     "data": {
      "text/plain": [
       "BenchmarkTools.Trial: \n",
       "  memory estimate:  15.26 MiB\n",
       "  allocs estimate:  4\n",
       "  --------------\n",
       "  minimum time:     4.339 ms (0.00% GC)\n",
       "  median time:      4.827 ms (8.28% GC)\n",
       "  mean time:        4.892 ms (5.64% GC)\n",
       "  maximum time:     8.222 ms (5.54% GC)\n",
       "  --------------\n",
       "  samples:          518\n",
       "  evals/sample:     1"
      ]
     },
     "execution_count": 5,
     "metadata": {},
     "output_type": "execute_result"
    }
   ],
   "source": [
    "@benchmark y+=a*x setup=(x=rand(1000000); y=copy(x))"
   ]
  },
  {
   "cell_type": "code",
   "execution_count": 6,
   "metadata": {},
   "outputs": [
    {
     "data": {
      "text/plain": [
       "blas_axpy! (generic function with 1 method)"
      ]
     },
     "execution_count": 6,
     "metadata": {},
     "output_type": "execute_result"
    }
   ],
   "source": [
    "function blas_axpy!(a::Float64, x::Array{Float64,1}, y::Array{Float64,1})\n",
    "    ccall( (:cblas_daxpy, \"libopenblas\"),\n",
    "        Void, (Clonglong, Cdouble, Ptr{Cdouble}, Clonglong, Ptr{Cdouble}, Clonglong),\n",
    "        size(y,1), a, x, 1, y, 1)\n",
    "end    "
   ]
  },
  {
   "cell_type": "code",
   "execution_count": 7,
   "metadata": {},
   "outputs": [
    {
     "data": {
      "text/plain": [
       "BenchmarkTools.Trial: \n",
       "  memory estimate:  0 bytes\n",
       "  allocs estimate:  0\n",
       "  --------------\n",
       "  minimum time:     1.964 ms (0.00% GC)\n",
       "  median time:      2.001 ms (0.00% GC)\n",
       "  mean time:        2.005 ms (0.00% GC)\n",
       "  maximum time:     2.395 ms (0.00% GC)\n",
       "  --------------\n",
       "  samples:          780\n",
       "  evals/sample:     1"
      ]
     },
     "execution_count": 7,
     "metadata": {},
     "output_type": "execute_result"
    }
   ],
   "source": [
    "@benchmark blas_axpy!(a,x,y) setup=(x=rand(1000000); y=copy(x))"
   ]
  },
  {
   "cell_type": "markdown",
   "metadata": {},
   "source": [
    "---"
   ]
  },
  {
   "cell_type": "code",
   "execution_count": 8,
   "metadata": {},
   "outputs": [
    {
     "data": {
      "text/plain": [
       "measure_maxpy (generic function with 1 method)"
      ]
     },
     "execution_count": 8,
     "metadata": {},
     "output_type": "execute_result"
    }
   ],
   "source": [
    "function measure_maxpy(n)\n",
    "    t = @benchmark maxpy!(a,x,y) setup=(x=rand($n); y=copy(x))\n",
    "    mflops = 2*n / median(t).time * 1.e3\n",
    "end"
   ]
  },
  {
   "cell_type": "code",
   "execution_count": 9,
   "metadata": {},
   "outputs": [
    {
     "data": {
      "text/plain": [
       "6265.74769033875"
      ]
     },
     "execution_count": 9,
     "metadata": {},
     "output_type": "execute_result"
    }
   ],
   "source": [
    "measure_maxpy(1000)"
   ]
  },
  {
   "cell_type": "code",
   "execution_count": 10,
   "metadata": {},
   "outputs": [
    {
     "data": {
      "text/plain": [
       "15-element Array{Int64,1}:\n",
       "       10\n",
       "       27\n",
       "       72\n",
       "      193\n",
       "      518\n",
       "     1389\n",
       "     3728\n",
       "    10000\n",
       "    26827\n",
       "    71969\n",
       "   193070\n",
       "   517947\n",
       "  1389495\n",
       "  3727594\n",
       " 10000000"
      ]
     },
     "execution_count": 10,
     "metadata": {},
     "output_type": "execute_result"
    }
   ],
   "source": [
    "sizes = round.(Int, logspace(1,7,15))"
   ]
  },
  {
   "cell_type": "code",
   "execution_count": 11,
   "metadata": {},
   "outputs": [
    {
     "data": {
      "text/plain": [
       "15-element Array{Float64,1}:\n",
       "  869.11 \n",
       " 1865.88 \n",
       " 3542.54 \n",
       " 5171.16 \n",
       " 5752.47 \n",
       " 6405.82 \n",
       " 5317.36 \n",
       " 5407.23 \n",
       " 4444.5  \n",
       " 3866.08 \n",
       " 2432.01 \n",
       " 1045.18 \n",
       " 1042.8  \n",
       " 1006.49 \n",
       "  985.776"
      ]
     },
     "execution_count": 11,
     "metadata": {},
     "output_type": "execute_result"
    }
   ],
   "source": [
    "mflops = [measure_maxpy(n) for n in sizes]"
   ]
  },
  {
   "cell_type": "code",
   "execution_count": 12,
   "metadata": {},
   "outputs": [],
   "source": [
    "using PyPlot"
   ]
  },
  {
   "cell_type": "code",
   "execution_count": 13,
   "metadata": {},
   "outputs": [
    {
     "data": {
      "image/png": "[encoded data removed]",
      "text/plain": [
       "PyPlot.Figure(PyObject <matplotlib.figure.Figure object at 0x7fc4e866a9e8>)"
      ]
     },
     "metadata": {},
     "output_type": "display_data"
    }
   ],
   "source": [
    "semilogx(sizes, mflops)\n",
    "grid(true)\n",
    "xlabel(\"size\"); ylabel(\"MFLOPS\");"
   ]
  },
  {
   "cell_type": "code",
   "execution_count": 14,
   "metadata": {
    "collapsed": true
   },
   "outputs": [],
   "source": [
    "function measure_blas(n)\n",
    "    t = @benchmark blas_axpy!(a,x,y) setup=(x=rand($n); y=copy(x))\n",
    "    mflops = 2*n / median(t).time * 1.e3\n",
    "end;"
   ]
  },
  {
   "cell_type": "code",
   "execution_count": 15,
   "metadata": {
    "collapsed": true
   },
   "outputs": [],
   "source": [
    "blas_mflops = [measure_blas(n) for n in sizes];"
   ]
  },
  {
   "cell_type": "code",
   "execution_count": 16,
   "metadata": {},
   "outputs": [
    {
     "data": {
      "image/png": "[encoded data removed]",
      "text/plain": [
       "PyPlot.Figure(PyObject <matplotlib.figure.Figure object at 0x7fc4d82ad9b0>)"
      ]
     },
     "metadata": {},
     "output_type": "display_data"
    }
   ],
   "source": [
    "semilogx(sizes, blas_mflops)\n",
    "grid(true)\n",
    "xlabel(\"size\"); ylabel(\"MFLOPS\");"
   ]
  },
  {
   "cell_type": "code",
   "execution_count": null,
   "metadata": {
    "collapsed": true
   },
   "outputs": [],
   "source": []
  }
 ],
 "metadata": {
  "kernelspec": {
   "display_name": "Julia 0.6.0",
   "language": "julia",
   "name": "julia-0.6"
  },
  "language_info": {
   "file_extension": ".jl",
   "mimetype": "application/julia",
   "name": "julia",
   "version": "0.6.0"
  }
 },
 "nbformat": 4,
 "nbformat_minor": 2
}
