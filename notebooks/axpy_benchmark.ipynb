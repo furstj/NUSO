{
 "cells": [
  {
   "cell_type": "code",
   "execution_count": 1,
   "metadata": {},
   "outputs": [],
   "source": [
    "using BenchmarkTools"
   ]
  },
  {
   "cell_type": "code",
   "execution_count": 2,
   "metadata": {},
   "outputs": [
    {
     "data": {
      "text/plain": [
       "maxpy! (generic function with 1 method)"
      ]
     },
     "execution_count": 2,
     "metadata": {},
     "output_type": "execute_result"
    }
   ],
   "source": [
    "function maxpy!(a::Float64, x::Array{Float64,1}, y::Array{Float64,1})\n",
    "    @simd for i=1:length(y)\n",
    "        @inbounds y[i] += a * x[i]\n",
    "    end\n",
    "end"
   ]
  },
  {
   "cell_type": "code",
   "execution_count": 3,
   "metadata": {},
   "outputs": [],
   "source": [
    "const a=1.2;"
   ]
  },
  {
   "cell_type": "code",
   "execution_count": 4,
   "metadata": {},
   "outputs": [
    {
     "data": {
      "text/plain": [
       "BenchmarkTools.Trial: \n",
       "  memory estimate:  0 bytes\n",
       "  allocs estimate:  0\n",
       "  --------------\n",
       "  minimum time:     1.888 ms (0.00% GC)\n",
       "  median time:      1.991 ms (0.00% GC)\n",
       "  mean time:        1.990 ms (0.00% GC)\n",
       "  maximum time:     2.344 ms (0.00% GC)\n",
       "  --------------\n",
       "  samples:          409\n",
       "  evals/sample:     1"
      ]
     },
     "execution_count": 4,
     "metadata": {},
     "output_type": "execute_result"
    }
   ],
   "source": [
    "@benchmark maxpy!(a,x,y) setup=(x=rand(1000000); y=copy(x))"
   ]
  },
  {
   "cell_type": "code",
   "execution_count": 5,
   "metadata": {},
   "outputs": [
    {
     "data": {
      "text/plain": [
       "BenchmarkTools.Trial: \n",
       "  memory estimate:  15.26 MiB\n",
       "  allocs estimate:  4\n",
       "  --------------\n",
       "  minimum time:     9.108 ms (0.00% GC)\n",
       "  median time:      10.680 ms (4.68% GC)\n",
       "  mean time:        23.381 ms (58.28% GC)\n",
       "  maximum time:     74.352 ms (87.08% GC)\n",
       "  --------------\n",
       "  samples:          108\n",
       "  evals/sample:     1"
      ]
     },
     "execution_count": 5,
     "metadata": {},
     "output_type": "execute_result"
    }
   ],
   "source": [
    "@benchmark y+=a*x setup=(x=rand(1000000); y=copy(x))"
   ]
  },
  {
   "cell_type": "code",
   "execution_count": 6,
   "metadata": {},
   "outputs": [
    {
     "data": {
      "text/plain": [
       "blas_axpy! (generic function with 1 method)"
      ]
     },
     "execution_count": 6,
     "metadata": {},
     "output_type": "execute_result"
    }
   ],
   "source": [
    "function blas_axpy!(a::Float64, x::Array{Float64,1}, y::Array{Float64,1})\n",
    "    ccall( (:cblas_daxpy, \"libopenblas\"),\n",
    "        Cvoid, (Clonglong, Cdouble, Ptr{Cdouble}, Clonglong, Ptr{Cdouble}, Clonglong),\n",
    "        size(y,1), a, x, 1, y, 1)\n",
    "end    "
   ]
  },
  {
   "cell_type": "code",
   "execution_count": 7,
   "metadata": {},
   "outputs": [
    {
     "data": {
      "text/plain": [
       "BenchmarkTools.Trial: \n",
       "  memory estimate:  0 bytes\n",
       "  allocs estimate:  0\n",
       "  --------------\n",
       "  minimum time:     1.936 ms (0.00% GC)\n",
       "  median time:      2.004 ms (0.00% GC)\n",
       "  mean time:        2.006 ms (0.00% GC)\n",
       "  maximum time:     2.904 ms (0.00% GC)\n",
       "  --------------\n",
       "  samples:          391\n",
       "  evals/sample:     1"
      ]
     },
     "execution_count": 7,
     "metadata": {},
     "output_type": "execute_result"
    }
   ],
   "source": [
    "@benchmark blas_axpy!(a,x,y) setup=(x=rand(1000000); y=copy(x))"
   ]
  },
  {
   "cell_type": "markdown",
   "metadata": {},
   "source": [
    "---"
   ]
  },
  {
   "cell_type": "code",
   "execution_count": 8,
   "metadata": {},
   "outputs": [
    {
     "data": {
      "text/plain": [
       "measure_maxpy (generic function with 1 method)"
      ]
     },
     "execution_count": 8,
     "metadata": {},
     "output_type": "execute_result"
    }
   ],
   "source": [
    "function measure_maxpy(n)\n",
    "    t = @benchmark maxpy!(a,x,y) setup=(x=rand($n); y=copy(x))\n",
    "    mflops = 2*n / BenchmarkTools.median(t).time * 1.e3\n",
    "end"
   ]
  },
  {
   "cell_type": "code",
   "execution_count": 9,
   "metadata": {},
   "outputs": [
    {
     "data": {
      "text/plain": [
       "10435.405491204794"
      ]
     },
     "execution_count": 9,
     "metadata": {},
     "output_type": "execute_result"
    }
   ],
   "source": [
    "measure_maxpy(1000)"
   ]
  },
  {
   "cell_type": "code",
   "execution_count": 10,
   "metadata": {},
   "outputs": [
    {
     "data": {
      "text/plain": [
       "15-element Array{Int64,1}:\n",
       "       10\n",
       "       27\n",
       "       72\n",
       "      193\n",
       "      518\n",
       "     1389\n",
       "     3728\n",
       "    10000\n",
       "    26827\n",
       "    71969\n",
       "   193070\n",
       "   517947\n",
       "  1389495\n",
       "  3727594\n",
       " 10000000"
      ]
     },
     "execution_count": 10,
     "metadata": {},
     "output_type": "execute_result"
    }
   ],
   "source": [
    "sizes = round.(Int, 10 .^range(1,stop=7,length=15))"
   ]
  },
  {
   "cell_type": "code",
   "execution_count": 11,
   "metadata": {},
   "outputs": [
    {
     "data": {
      "text/plain": [
       "15-element Array{Float64,1}:\n",
       "   510.72628586197976\n",
       "  1302.524499621203  \n",
       "  3295.698302022284  \n",
       "  6753.956551656345  \n",
       "  9021.624871511412  \n",
       " 10225.291352778313  \n",
       "  5344.204278194647  \n",
       "  5701.796065760714  \n",
       "  3999.2546213476444 \n",
       "  3502.9081794066824 \n",
       "  2658.7438203175566 \n",
       "  1186.456518676576  \n",
       "  1027.397298257023  \n",
       "   984.306613746502  \n",
       "   981.4925350867632 "
      ]
     },
     "execution_count": 11,
     "metadata": {},
     "output_type": "execute_result"
    }
   ],
   "source": [
    "mflops = [measure_maxpy(n) for n in sizes]"
   ]
  },
  {
   "cell_type": "code",
   "execution_count": 12,
   "metadata": {},
   "outputs": [],
   "source": [
    "using PyPlot"
   ]
  },
  {
   "cell_type": "code",
   "execution_count": 13,
   "metadata": {},
   "outputs": [
    {
     "data": {
      "image/png": "[encoded data removed]",
      "text/plain": [
       "Figure(PyObject <matplotlib.figure.Figure object at 0x7ffbb630d470>)"
      ]
     },
     "metadata": {},
     "output_type": "display_data"
    }
   ],
   "source": [
    "semilogx(sizes, mflops)\n",
    "grid(true)\n",
    "xlabel(\"size\"); ylabel(\"MFLOPS\");"
   ]
  },
  {
   "cell_type": "code",
   "execution_count": 14,
   "metadata": {},
   "outputs": [],
   "source": [
    "function measure_blas(n)\n",
    "    t = @benchmark blas_axpy!(a,x,y) setup=(x=rand($n); y=copy(x))\n",
    "    mflops = 2*n / BenchmarkTools.median(t).time * 1.e3\n",
    "end;"
   ]
  },
  {
   "cell_type": "code",
   "execution_count": 15,
   "metadata": {},
   "outputs": [],
   "source": [
    "blas_mflops = [measure_blas(n) for n in sizes];"
   ]
  },
  {
   "cell_type": "code",
   "execution_count": 16,
   "metadata": {},
   "outputs": [
    {
     "data": {
      "image/png": "[encoded data removed]",
      "text/plain": [
       "Figure(PyObject <matplotlib.figure.Figure object at 0x7ffbb523e5f8>)"
      ]
     },
     "metadata": {},
     "output_type": "display_data"
    }
   ],
   "source": [
    "semilogx(sizes, blas_mflops)\n",
    "grid(true)\n",
    "xlabel(\"size\"); ylabel(\"MFLOPS\");"
   ]
  },
  {
   "cell_type": "code",
   "execution_count": null,
   "metadata": {},
   "outputs": [],
   "source": []
  }
 ],
 "metadata": {
  "kernelspec": {
   "display_name": "Julia 1.0.0",
   "language": "julia",
   "name": "julia-1.0"
  },
  "language_info": {
   "file_extension": ".jl",
   "mimetype": "application/julia",
   "name": "julia",
   "version": "1.0.0"
  }
 },
 "nbformat": 4,
 "nbformat_minor": 2
}
