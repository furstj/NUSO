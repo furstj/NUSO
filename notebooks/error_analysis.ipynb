{
 "cells": [
  {
   "cell_type": "markdown",
   "metadata": {},
   "source": [
    "# Analýza chyb\n",
    "\n",
    "Algoritmus\n",
    "$$\n",
    " x = f(z)\n",
    "$$\n",
    "\n",
    "Numerická realizace\n",
    "$$\n",
    "    \\tilde x = \\tilde f(z)\n",
    "$$"
   ]
  },
  {
   "cell_type": "markdown",
   "metadata": {},
   "source": [
    "## Zpětná chyba\n",
    "$$\n",
    "    \\tilde x = f(z + \\delta z)\n",
    "$$\n",
    "\n",
    "Pokud je $\\delta z$ malé, je algoritmus zpětně stabilní."
   ]
  },
  {
   "cell_type": "markdown",
   "metadata": {},
   "source": [
    "## Dopředná chyba a souvislost se zpětnou chybou\n",
    "$$\n",
    "    \\tilde x = x + \\delta x\n",
    "$$\n",
    "\n",
    "$$\n",
    "  \\tilde x - x = f(z+\\delta z) - f(z) \\approx f'(z) \\delta z\n",
    "$$\n",
    "\n",
    "$$\n",
    "  \\left|\\frac{\\tilde x - x}{x}\\right| \\approx \\frac{|f'(z)|\\,|z|}{|f(z)|} \\left|\\frac{\\delta z}{z}\\right|\n",
    "    = \\kappa \\left|\\frac{\\delta z}{z}\\right|\n",
    "$$"
   ]
  },
  {
   "cell_type": "markdown",
   "metadata": {},
   "source": [
    "### Aplikace na lineární soustavy rovnic\n",
    "\n",
    "$$\n",
    "  A x = z\n",
    "$$\n",
    "$$\n",
    "    x = f(z) = A^{-1} z\n",
    "$$\n",
    "\n",
    "$$ \n",
    "  f'(z) = A^{-1} \n",
    "$$\n",
    "\n",
    "$$\n",
    "    \\kappa = \\frac{||A^{-1}||\\,||A x||}{||x||} \\le ||A^{-1}||\\,||A||.\n",
    "$$\n"
   ]
  },
  {
   "cell_type": "markdown",
   "metadata": {},
   "source": [
    "# Příklad\n",
    "\n",
    "Výpočet Eukleidovské normy vektoru "
   ]
  },
  {
   "cell_type": "code",
   "execution_count": 13,
   "metadata": {
    "collapsed": false
   },
   "outputs": [
    {
     "data": {
      "text/plain": [
       "333.5001668335001"
      ]
     },
     "execution_count": 13,
     "metadata": {},
     "output_type": "execute_result"
    }
   ],
   "source": [
    "n = 1000\n",
    "v = collect(linspace(0,1,n));\n",
    "\n",
    "s = 0.0\n",
    "for e in v\n",
    "    s += e*e\n",
    "end\n",
    "s"
   ]
  },
  {
   "cell_type": "markdown",
   "metadata": {},
   "source": [
    "Realizace:\n",
    "\n",
    "\\begin{align*}\n",
    "  \\tilde s_0 &= 0 \\\\\n",
    "  \\tilde s_1 &= fl(\\tilde s_0 + fl(v_1^2)) = (\\tilde s_0 + v_1^2(1+\\epsilon_1)) (1+\\zeta_1)\n",
    "  = v_1^2 (1+\\epsilon_1) (1+\\zeta_1), \\\\\n",
    "  \\tilde s_2 &= fl(\\tilde s_1 + fl(v_2^2)) = (\\tilde s_1 + v_2^2(1+\\epsilon_2)) (1+\\zeta_2)\n",
    "  = v_1^2 (1+\\epsilon_1) (1+\\zeta_1)(1+\\zeta_2) + v_2^2(1+\\epsilon_2)(1+\\zeta_2), \\\\\n",
    "  ... & ... \\\\\n",
    "  \\tilde s_n &= fl(\\tilde s_{n-1} + fl(v_n^2)) = (\\tilde s_{n-1} + v_n^2(1+\\epsilon_n)) (1+\\zeta_n)= \n",
    "  \\sum_{i=1}^n\\left( v_i^2(1+\\epsilon_i) \\prod_{j=i}^n (1+\\zeta_j)\\right).\\\\\n",
    "\\end{align*}\n",
    "\n",
    "Modifikovaná vstupní data\n",
    "$$\n",
    "    v_i + \\delta v_i = v_i (1+\\epsilon_i) \\prod_{j=i}^n (1+\\zeta_j) = v_i (1 + \\mu_i)\n",
    "$$\n",
    "Pokud $\\epsilon_i \\approx \\zeta_i \\approx \\epsilon << 1$, pak\n",
    "$$\n",
    "    \\mu_i \\approx n \\epsilon\n",
    "$$\n",
    "\n",
    "Relativní zpětná chyba je $\\delta v_i/v_i \\approx n \\epsilon$."
   ]
  },
  {
   "cell_type": "markdown",
   "metadata": {},
   "source": [
    "Podmíněnost úlohy\n",
    "\n",
    "$$\n",
    "  \\frac{f'(\\vec{v})\\cdot {v}}{s} = \\frac{2 \\vec{v} \\cdot \\vec{v}}{s} = \\frac{2s}{s} = 2.\n",
    "$$\n",
    "\n",
    "Dopředná chyba\n",
    "$$\n",
    "    \\tilde s - s \\approx 2 n \\epsilon.\n",
    "$$"
   ]
  },
  {
   "cell_type": "code",
   "execution_count": 14,
   "metadata": {
    "collapsed": false
   },
   "outputs": [],
   "source": [
    "using ValidatedNumerics;"
   ]
  },
  {
   "cell_type": "code",
   "execution_count": 17,
   "metadata": {
    "collapsed": false
   },
   "outputs": [
    {
     "name": "stdout",
     "output_type": "stream",
     "text": [
      "Interval(333.49916683449146, 333.5011668345072)"
     ]
    }
   ],
   "source": [
    "eps = 1.e-6\n",
    "vi = [@interval(e-eps,e+eps) for e in v]\n",
    "si = @interval 0.0\n",
    "\n",
    "for ei in vi\n",
    "    si += ei*ei\n",
    "end\n",
    "showall(si)"
   ]
  },
  {
   "cell_type": "code",
   "execution_count": 18,
   "metadata": {
    "collapsed": false
   },
   "outputs": [
    {
     "data": {
      "text/plain": [
       "0.0020000000157551767"
      ]
     },
     "execution_count": 18,
     "metadata": {},
     "output_type": "execute_result"
    }
   ],
   "source": [
    "si.hi - si.lo"
   ]
  },
  {
   "cell_type": "code",
   "execution_count": 19,
   "metadata": {
    "collapsed": false
   },
   "outputs": [
    {
     "data": {
      "text/plain": [
       "0.002"
      ]
     },
     "execution_count": 19,
     "metadata": {},
     "output_type": "execute_result"
    }
   ],
   "source": [
    "2*n*eps"
   ]
  }
 ],
 "metadata": {
  "kernelspec": {
   "display_name": "Julia 0.4.6",
   "language": "julia",
   "name": "julia-0.4"
  },
  "language_info": {
   "file_extension": ".jl",
   "mimetype": "application/julia",
   "name": "julia",
   "version": "0.4.6"
  }
 },
 "nbformat": 4,
 "nbformat_minor": 0
}
