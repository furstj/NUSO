{
 "cells": [
  {
   "cell_type": "markdown",
   "metadata": {},
   "source": [
    "# LU rozklad"
   ]
  },
  {
   "cell_type": "markdown",
   "metadata": {},
   "source": [
    "## Bodová verze\n",
    "\n",
    "$$\n",
    "    A = L * U\n",
    "$$\n",
    "kde $L$ je dolní trojúhelníková matice s $l_{ii} = 1$ a $U$ je horní trojúhelníková matice.\n",
    "\n",
    "Potom:\n",
    "$$\n",
    "    a_{ij} = \\sum_{k=1}^{min(i,j)} l_{ik} u_{kj}.\n",
    "$$\n",
    "\n",
    "tedy:\n",
    "\\begin{eqnarray}\n",
    "    l_{11} &=& 1, \\\\\n",
    "    u_{11} &=& a_{11}, \\\\\n",
    "    u_{1j} &=& a_{1j}, \\\\\n",
    "    l_{i1} &=& a_{i1} / u_{11}, \\\\\n",
    "    a_{ij} &=& \\sum_{k=2}^{min(i,j)} l_{ik} u_{kj} + l_{i1} u_{1j}. \n",
    "\\end{eqnarray}\n",
    "\n",
    "## Bloková verze\n",
    "\n",
    "\\begin{eqnarray}\n",
    "    A_{11} &=& L_{11} * U_{11}, \\\\\n",
    "    A_{21} &=& L_{21} * U_{11}, \\\\\n",
    "    A_{12} &=& L_{11} * U_{12}, \\\\\n",
    "    A_{22} &=& L_{21} * U_{12} + L_{22} * U_{22}.\n",
    "\\end{eqnarray}"
   ]
  },
  {
   "cell_type": "code",
   "execution_count": 1,
   "metadata": {},
   "outputs": [],
   "source": [
    "function testmatrix(n)\n",
    "    A = zeros(n,n)\n",
    "    for i=1:n, j=1:n\n",
    "        A[i,j] = 2*n + min(i-j,j-i) \n",
    "    end\n",
    "    return A\n",
    "end;"
   ]
  },
  {
   "cell_type": "code",
   "execution_count": 2,
   "metadata": {},
   "outputs": [],
   "source": [
    "using LinearAlgebra"
   ]
  },
  {
   "cell_type": "code",
   "execution_count": 3,
   "metadata": {},
   "outputs": [
    {
     "data": {
      "text/plain": [
       "10×10 Array{Float64,2}:\n",
       " 1.0   0.0       0.0       0.0       …  0.0       0.0       0.0      0.0\n",
       " 0.95  1.0       0.0       0.0          0.0       0.0       0.0      0.0\n",
       " 0.9   0.974359  1.0       0.0          0.0       0.0       0.0      0.0\n",
       " 0.85  0.948718  0.973684  1.0          0.0       0.0       0.0      0.0\n",
       " 0.8   0.923077  0.947368  0.972973     0.0       0.0       0.0      0.0\n",
       " 0.75  0.897436  0.921053  0.945946  …  0.0       0.0       0.0      0.0\n",
       " 0.7   0.871795  0.894737  0.918919     1.0       0.0       0.0      0.0\n",
       " 0.65  0.846154  0.868421  0.891892     0.970588  1.0       0.0      0.0\n",
       " 0.6   0.820513  0.842105  0.864865     0.941176  0.969697  1.0      0.0\n",
       " 0.55  0.794872  0.815789  0.837838     0.911765  0.939394  0.96875  1.0"
      ]
     },
     "execution_count": 3,
     "metadata": {},
     "output_type": "execute_result"
    }
   ],
   "source": [
    "A10 = testmatrix(10);\n",
    "F=lu(A10);\n",
    "L=F.L"
   ]
  },
  {
   "cell_type": "code",
   "execution_count": 4,
   "metadata": {},
   "outputs": [
    {
     "data": {
      "text/plain": [
       "10×10 Array{Float64,2}:\n",
       " 20.0  19.0   18.0      17.0      16.0      …  13.0      12.0      11.0    \n",
       "  0.0   1.95   1.9       1.85      1.8          1.65      1.6       1.55   \n",
       "  0.0   0.0    1.94872   1.89744   1.84615      1.69231   1.64103   1.58974\n",
       "  0.0   0.0    0.0       1.94737   1.89474      1.73684   1.68421   1.63158\n",
       "  0.0   0.0    0.0       0.0       1.94595      1.78378   1.72973   1.67568\n",
       "  0.0   0.0    0.0       0.0       0.0      …   1.83333   1.77778   1.72222\n",
       "  0.0   0.0    0.0       0.0       0.0          1.88571   1.82857   1.77143\n",
       "  0.0   0.0    0.0       0.0       0.0          1.94118   1.88235   1.82353\n",
       "  0.0   0.0    0.0       0.0       0.0          0.0       1.93939   1.87879\n",
       "  0.0   0.0    0.0       0.0       0.0          0.0       0.0       1.9375 "
      ]
     },
     "execution_count": 4,
     "metadata": {},
     "output_type": "execute_result"
    }
   ],
   "source": [
    "U=F.U"
   ]
  },
  {
   "cell_type": "code",
   "execution_count": 5,
   "metadata": {},
   "outputs": [],
   "source": [
    "function lu_pointwise!(A)\n",
    "    n = size(A,1)\n",
    "    for m=1:n\n",
    "        for i=m+1:n\n",
    "            A[i,m] /= A[m,m]\n",
    "        end\n",
    "        for i=m+1:n, j=m+1:n\n",
    "            A[i,j] -= A[i,m]*A[m,j]\n",
    "        end\n",
    "    end\n",
    "end;"
   ]
  },
  {
   "cell_type": "code",
   "execution_count": 6,
   "metadata": {},
   "outputs": [
    {
     "data": {
      "text/plain": [
       "10×10 Array{Float64,2}:\n",
       " 20.0   19.0       18.0       17.0       …  13.0       12.0      11.0    \n",
       "  0.95   1.95       1.9        1.85          1.65       1.6       1.55   \n",
       "  0.9    0.974359   1.94872    1.89744       1.69231    1.64103   1.58974\n",
       "  0.85   0.948718   0.973684   1.94737       1.73684    1.68421   1.63158\n",
       "  0.8    0.923077   0.947368   0.972973      1.78378    1.72973   1.67568\n",
       "  0.75   0.897436   0.921053   0.945946  …   1.83333    1.77778   1.72222\n",
       "  0.7    0.871795   0.894737   0.918919      1.88571    1.82857   1.77143\n",
       "  0.65   0.846154   0.868421   0.891892      1.94118    1.88235   1.82353\n",
       "  0.6    0.820513   0.842105   0.864865      0.969697   1.93939   1.87879\n",
       "  0.55   0.794872   0.815789   0.837838      0.939394   0.96875   1.9375 "
      ]
     },
     "execution_count": 6,
     "metadata": {},
     "output_type": "execute_result"
    }
   ],
   "source": [
    "A10=testmatrix(10);\n",
    "lu_pointwise!(A10);\n",
    "A10"
   ]
  },
  {
   "cell_type": "code",
   "execution_count": 7,
   "metadata": {},
   "outputs": [],
   "source": [
    "function lufact!(A)\n",
    "    F=lu(A)\n",
    "end\n",
    "lufact!(A10);"
   ]
  },
  {
   "cell_type": "code",
   "execution_count": 8,
   "metadata": {},
   "outputs": [],
   "source": [
    "function lu_block_naive!(A)\n",
    "    n = size(A,1)\n",
    "    block=40\n",
    "    \n",
    "    for m=1:block:n\n",
    "        mend = min(m+block-1,n)\n",
    "\n",
    "        A_11 = view(A, m:mend, m:mend)\n",
    "        A_21 = view(A, mend+1:n, m:mend)\n",
    "        A_12 = view(A, m:mend, mend+1:n)\n",
    "        A_22 = view(A, mend+1:n, mend+1:n)\n",
    "        \n",
    "        lu_pointwise!(A_11)\n",
    "        \n",
    "        L = tril(A_11,-1) + I \n",
    "        U = triu(A_11)\n",
    "        \n",
    "        A_21[:,:] = A_21 / U         \n",
    "        A_12[:,:] = L \\ A_12\n",
    "        A_22[:,:] = A_22 - A_21 * A_12\n",
    "    end\n",
    "end;"
   ]
  },
  {
   "cell_type": "code",
   "execution_count": 9,
   "metadata": {},
   "outputs": [
    {
     "data": {
      "text/plain": [
       "10×10 Array{Float64,2}:\n",
       " 20.0   19.0       18.0       17.0       …  13.0       12.0      11.0    \n",
       "  0.95   1.95       1.9        1.85          1.65       1.6       1.55   \n",
       "  0.9    0.974359   1.94872    1.89744       1.69231    1.64103   1.58974\n",
       "  0.85   0.948718   0.973684   1.94737       1.73684    1.68421   1.63158\n",
       "  0.8    0.923077   0.947368   0.972973      1.78378    1.72973   1.67568\n",
       "  0.75   0.897436   0.921053   0.945946  …   1.83333    1.77778   1.72222\n",
       "  0.7    0.871795   0.894737   0.918919      1.88571    1.82857   1.77143\n",
       "  0.65   0.846154   0.868421   0.891892      1.94118    1.88235   1.82353\n",
       "  0.6    0.820513   0.842105   0.864865      0.969697   1.93939   1.87879\n",
       "  0.55   0.794872   0.815789   0.837838      0.939394   0.96875   1.9375 "
      ]
     },
     "execution_count": 9,
     "metadata": {},
     "output_type": "execute_result"
    }
   ],
   "source": [
    "A10=testmatrix(10);\n",
    "lu_block_naive!(A10);\n",
    "A10"
   ]
  },
  {
   "cell_type": "code",
   "execution_count": 10,
   "metadata": {},
   "outputs": [],
   "source": [
    "function lu_block!(A)\n",
    "    n = size(A,1)\n",
    "    block=40\n",
    "    \n",
    "    for m=1:block:n\n",
    "        mend = min(m+block-1,n)\n",
    "\n",
    "        A_11 = view(A, m:mend, m:mend)\n",
    "        A_21 = view(A, mend+1:n, m:mend)\n",
    "        A_12 = view(A, m:mend, mend+1:n)\n",
    "        A_22 = view(A, mend+1:n, mend+1:n)\n",
    "        \n",
    "        lu_pointwise!(A_11)\n",
    "        \n",
    "        LinearAlgebra.BLAS.trsm!('R', 'U', 'N', 'N', 1.0, A_11, A_21)\n",
    "        LinearAlgebra.BLAS.trsm!('L', 'L', 'N', 'U', 1.0, A_11, A_12)\n",
    "        LinearAlgebra.BLAS.gemm!('N', 'N', -1.0, A_21, A_12, 1.0, A_22)\n",
    "    end\n",
    "end;"
   ]
  },
  {
   "cell_type": "code",
   "execution_count": 11,
   "metadata": {},
   "outputs": [
    {
     "data": {
      "text/plain": [
       "10×10 Array{Float64,2}:\n",
       " 20.0   19.0       18.0       17.0       …  13.0       12.0      11.0    \n",
       "  0.95   1.95       1.9        1.85          1.65       1.6       1.55   \n",
       "  0.9    0.974359   1.94872    1.89744       1.69231    1.64103   1.58974\n",
       "  0.85   0.948718   0.973684   1.94737       1.73684    1.68421   1.63158\n",
       "  0.8    0.923077   0.947368   0.972973      1.78378    1.72973   1.67568\n",
       "  0.75   0.897436   0.921053   0.945946  …   1.83333    1.77778   1.72222\n",
       "  0.7    0.871795   0.894737   0.918919      1.88571    1.82857   1.77143\n",
       "  0.65   0.846154   0.868421   0.891892      1.94118    1.88235   1.82353\n",
       "  0.6    0.820513   0.842105   0.864865      0.969697   1.93939   1.87879\n",
       "  0.55   0.794872   0.815789   0.837838      0.939394   0.96875   1.9375 "
      ]
     },
     "execution_count": 11,
     "metadata": {},
     "output_type": "execute_result"
    }
   ],
   "source": [
    "A10=testmatrix(10);\n",
    "lu_block!(A10);\n",
    "A10"
   ]
  },
  {
   "cell_type": "code",
   "execution_count": 12,
   "metadata": {},
   "outputs": [],
   "source": [
    "function lu_openblas!(A)\n",
    "    CblasColMajor = 102\n",
    "    CblasNoTrans = 111\n",
    "    ipiv = zeros(Int64, size(A,1))\n",
    "\n",
    "    ccall( (:LAPACKE_dgetrf, \"libopenblas\"),\n",
    "    Clonglong, \n",
    "    (Clonglong, Clonglong, Clonglong, \n",
    "    Ptr{Cdouble}, Clonglong, Ptr{Clonglong}),\n",
    "    \n",
    "    CblasColMajor, size(A,1), size(A,2), \n",
    "    A, size(A,1), ipiv)\n",
    "end;"
   ]
  },
  {
   "cell_type": "code",
   "execution_count": 13,
   "metadata": {},
   "outputs": [
    {
     "data": {
      "text/plain": [
       "10×10 Array{Float64,2}:\n",
       " 20.0   19.0       18.0       17.0       …  13.0       12.0      11.0    \n",
       "  0.95   1.95       1.9        1.85          1.65       1.6       1.55   \n",
       "  0.9    0.974359   1.94872    1.89744       1.69231    1.64103   1.58974\n",
       "  0.85   0.948718   0.973684   1.94737       1.73684    1.68421   1.63158\n",
       "  0.8    0.923077   0.947368   0.972973      1.78378    1.72973   1.67568\n",
       "  0.75   0.897436   0.921053   0.945946  …   1.83333    1.77778   1.72222\n",
       "  0.7    0.871795   0.894737   0.918919      1.88571    1.82857   1.77143\n",
       "  0.65   0.846154   0.868421   0.891892      1.94118    1.88235   1.82353\n",
       "  0.6    0.820513   0.842105   0.864865      0.969697   1.93939   1.87879\n",
       "  0.55   0.794872   0.815789   0.837838      0.939394   0.96875   1.9375 "
      ]
     },
     "execution_count": 13,
     "metadata": {},
     "output_type": "execute_result"
    }
   ],
   "source": [
    "A10=testmatrix(10);\n",
    "lu_openblas!(A10);\n",
    "A10"
   ]
  },
  {
   "cell_type": "code",
   "execution_count": 14,
   "metadata": {},
   "outputs": [],
   "source": [
    "function bench(fun)\n",
    "    n = [11, 51, 101, 201, 501, 1001, 1501, 2001, 2501, 3001]\n",
    "    t  = zeros(Float64, size(n))\n",
    "    \n",
    "    for i=1:size(n,1)\n",
    "        A = testmatrix(n[i])\n",
    "        \n",
    "        t1 = time_ns()\n",
    "        fun(A)\n",
    "        t[i] = (time_ns() - t1) * 1.e-9\n",
    "    end\n",
    "    return t, n\n",
    "end;"
   ]
  },
  {
   "cell_type": "code",
   "execution_count": 15,
   "metadata": {},
   "outputs": [],
   "source": [
    "t_pointwise, n = bench(lu_pointwise!);"
   ]
  },
  {
   "cell_type": "code",
   "execution_count": 16,
   "metadata": {},
   "outputs": [],
   "source": [
    "t_block_naive, n = bench(lu_block_naive!);"
   ]
  },
  {
   "cell_type": "code",
   "execution_count": 17,
   "metadata": {},
   "outputs": [],
   "source": [
    "t_block, n = bench(lu_block!);"
   ]
  },
  {
   "cell_type": "code",
   "execution_count": 18,
   "metadata": {},
   "outputs": [],
   "source": [
    "t_builtin, n = bench(lufact!);"
   ]
  },
  {
   "cell_type": "code",
   "execution_count": 19,
   "metadata": {},
   "outputs": [],
   "source": [
    "t_openblas, n = bench(lu_openblas!);"
   ]
  },
  {
   "cell_type": "code",
   "execution_count": 20,
   "metadata": {},
   "outputs": [],
   "source": [
    "using PyPlot;"
   ]
  },
  {
   "cell_type": "code",
   "execution_count": 21,
   "metadata": {},
   "outputs": [
    {
     "data": {
      "text/plain": [
       "mflops (generic function with 1 method)"
      ]
     },
     "execution_count": 21,
     "metadata": {},
     "output_type": "execute_result"
    }
   ],
   "source": [
    "mflops(t, n) = [ 1.e-6 * 2.0/3.0 * float(n[i])^3 / t[i] for i in 1:size(t,1)]"
   ]
  },
  {
   "cell_type": "code",
   "execution_count": 22,
   "metadata": {},
   "outputs": [
    {
     "data": {
      "image/png": "[encoded data removed]",
      "text/plain": [
       "Figure(PyObject <matplotlib.figure.Figure object at 0x7faa8611f588>)"
      ]
     },
     "metadata": {},
     "output_type": "display_data"
    }
   ],
   "source": [
    "semilogx(n, mflops(t_pointwise,n), label=\"pointwise\");\n",
    "semilogx(n, mflops(t_block_naive,n), label=\"block naive\");\n",
    "semilogx(n, mflops(t_block,n), label=\"block\");\n",
    "semilogx(n, mflops(t_builtin,n), label=\"builtin\");\n",
    "semilogx(n, mflops(t_openblas,n), label=\"openblas\");\n",
    "legend(loc=\"upper left\"); xlabel(\"n\"); ylabel(\"MFLOPS\");\n",
    "grid(true);"
   ]
  },
  {
   "cell_type": "code",
   "execution_count": null,
   "metadata": {},
   "outputs": [],
   "source": []
  }
 ],
 "metadata": {
  "kernelspec": {
   "display_name": "Julia 1.0.0",
   "language": "julia",
   "name": "julia-1.0"
  },
  "language_info": {
   "file_extension": ".jl",
   "mimetype": "application/julia",
   "name": "julia",
   "version": "1.0.0"
  }
 },
 "nbformat": 4,
 "nbformat_minor": 1
}
